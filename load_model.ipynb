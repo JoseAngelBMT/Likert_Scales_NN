{
 "cells": [
  {
   "cell_type": "code",
   "execution_count": 60,
   "metadata": {},
   "outputs": [],
   "source": [
    "import numpy as np\n",
    "import pandas as pd\n",
    "import matplotlib.pyplot as plt\n",
    "\n",
    "from sklearn.model_selection import train_test_split\n",
    "from sklearn.preprocessing import LabelEncoder\n",
    "\n",
    "import keras\n",
    "import tensorflow as tf\n",
    "\n",
    "from tensorflow.keras.models import Sequential\n",
    "from tensorflow.keras.layers import Input,InputLayer, Conv2D, MaxPooling2D, Flatten, Dense, Dropout, BatchNormalization\n",
    "from tensorflow.keras import applications, initializers, Model, optimizers, metrics\n",
    "from sklearn.metrics import accuracy_score, mean_squared_error, r2_score, mean_absolute_percentage_error\n",
    "from sklearn.preprocessing import OneHotEncoder, MinMaxScaler, StandardScaler\n",
    "from tensorflow.keras.utils import to_categorical\n",
    "\n",
    "from sklearn import preprocessing\n",
    "from sklearn import tree\n",
    "\n",
    "from keras.callbacks import LearningRateScheduler, ModelCheckpoint\n",
    "\n",
    "from sklearn.cluster import AgglomerativeClustering, KMeans\n",
    "\n",
    "from sklearn.metrics import silhouette_samples, silhouette_score\n",
    "\n",
    "import plotly.express as px"
   ]
  },
  {
   "cell_type": "code",
   "execution_count": 61,
   "metadata": {},
   "outputs": [],
   "source": [
    "data = pd.read_csv(\"datosnuevos.csv\",encoding='latin-1',index_col=0,sep = \";\")\n",
    "data = data.dropna()\n",
    "data = data.rename(columns={'P47,':'P47'})\n",
    "data['P47'] = data['P47'].str.replace(\",\",\"\")\n",
    "data = data.drop(['Perfil','Periodo','Curso'], axis=1)"
   ]
  },
  {
   "cell_type": "code",
   "execution_count": 62,
   "metadata": {},
   "outputs": [],
   "source": [
    "encode_norm = {\"Totalmente en desacuerdo\":-0.9,\"Levemente en desacuerdo\":-0.4,\"Ni de deacuerdo ni en desacuerdo\":-0.1,\"Medianamente de acuerdo\":0.4,\"Totalmente de acuerdo\":0.9}\n",
    "encode = {\"Totalmente en desacuerdo\":0,\"Levemente en desacuerdo\":1,\"Ni de deacuerdo ni en desacuerdo\":2,\"Medianamente de acuerdo\":3,\"Totalmente de acuerdo\":4}\n",
    "\n",
    "preguntas = []\n",
    "for i in range(1,48):\n",
    "    preguntas.append(\"P\"+str(i))\n",
    "    data[\"P\"+str(i)] = data[\"P\"+str(i)].map(encode_norm)\n",
    "data[\"Genero\"] = data[\"Genero\"].map({\"Femenino\": 0, \"Masculino\":1})"
   ]
  },
  {
   "cell_type": "code",
   "execution_count": 63,
   "metadata": {},
   "outputs": [],
   "source": [
    "ramas = {\"ADMINISTRACION DE EMPRESAS\": \"CCSS\", \"AGRONOMIA\":\"C\",\"TECNOLOGIA EN REGENCIA DE FARMACIA\":\"SALUD\",\"ZOOTECNIA\":\"C\",\"COMUNICACION SOCIAL\":\"AYH\",\n",
    "\"LICENCIATURA EN MATEMATICAS\":\"C\",\"TECNOLOGIA EN REGENCIA DE FARMACIA (RESOLUCION 08200)\":\"SALUD\",\"LICENCIATURA EN INGLES COMO LENGUA EXTRANJERA\":\"AYH\",\n",
    "\"TECNOLOGIA EN SISTEMAS AGROFORESTALES\":\"C\",\"LICENCIATURA EN ETNOEDUCACION\":\"AYH\",\"TECNOLOGIA AGROFORESTAL\":\"C\",\"TECNOLOG?A EN DESAROLLO DE SOFTWARE\":\"ING\",\n",
    "\"ADMINISTRACION EN SALUD\":\"SALUD\",\"TECNOLOGIA EN PRODUCCION AGRICOLA\":\"C\",\"LICENCIATURA EN FILOSOFIA\":\"AYH\",\"CURSOS LIBRES\":\"OTROS\",\n",
    "\"TECNOLOGIA EN SISTEMAS DE COMUNICACIONES INAL?MBRICAS\":\"ING\",\"TECNOLOGIA EN PRODUCCION DE AUDIO\":\"ING\",\"TECNOLOGIA EN SANEAMIENTO AMBIENTAL\":\"C\",\n",
    "\"TECNOLOGIA EN AUDIO\":\"ING\",\"LICENCIATURA EN LENGUAS EXTRANJERAS CON ?NFASIS EN INGL?S\":\"AYH\",\"PSICOLOGIA\":\"AYH\",\"TECNOLOGIA INDUSTRIAL\":\"ING\",\n",
    "\"ADULTO MAYOR, ACTOR SOCIAL\":\"OTROS\",\"ARTES VISUALES\":\"AYH\",\"TECNOLOGIA DE TELECOMUNICACIONES\":\"ING\",\"TECNOLOGIA EN RADIOLOGIA E IMAGENES DIAGNOSTICAS\":\"SALUD\",\n",
    "\"Música\":\"AYH\",\"LICENCIATURA EN ETNOEDUCACI?N (RESOLUCI?N 26750)\":\"AYH\",\"CURRICULA Y PEDAGOGIA\":\"CCSS\",\"FILOSOFIA\":\"AYH\",\"QUIMICA\":\"C\",\n",
    "\"TECNOLOGIA EN GESTION COMERCIAL Y DE NEGOCIOS\":\"CCSS\",\"Bachillerato a distancia\":\"OTROS\",\"TECNOLOGIA EN SISTEMAS\":\"ING\",\"TECNOLOGIA EN GESTION AGROPECUARIA\":\"C\"}\n",
    "data[\"Programa\"] = data[\"Programa\"].replace(ramas)\n",
    "data.loc[data['Programa'].str.contains('INGENIER'), 'Programa'] = 'ING'\n",
    "data.loc[data['Programa'].str.contains('CICLO'), 'Programa'] = 'OTROS'\n",
    "data.Programa = data.Programa.map({\"CCSS\":0,\"C\":1,\"ING\":2,\"SALUD\":3,\"AYH\":4,\"OTROS\":5})"
   ]
  },
  {
   "cell_type": "code",
   "execution_count": 64,
   "metadata": {},
   "outputs": [],
   "source": [
    "preguntas_adiccion = ['P2','P7','P9','P11','P12','P13','P15',\n",
    "'P17','P23','P25','P26','P27','P32','P34','P38','P40','P41','P42','P43',\n",
    "'P44','P45','P46','P47']\n",
    "\n",
    "preguntas_todas = preguntas\n",
    "preguntas = list(set(preguntas) - set(preguntas_adiccion))"
   ]
  },
  {
   "cell_type": "code",
   "execution_count": 65,
   "metadata": {},
   "outputs": [],
   "source": [
    "data.Edad = pd.qcut(data.Edad, q=4, precision = 0,labels=False)"
   ]
  },
  {
   "cell_type": "code",
   "execution_count": 66,
   "metadata": {},
   "outputs": [],
   "source": [
    "X = data.loc[:,preguntas_todas]\n",
    "y = data.loc[:,preguntas_todas]\n",
    "\n",
    "X_train, X_test, y_train, y_test = train_test_split(X, y, test_size=0.3, random_state=1)\n",
    "X_val, X_test, y_val, y_test = train_test_split(X_test, y_test, test_size = 0.5, random_state=1)"
   ]
  },
  {
   "cell_type": "code",
   "execution_count": 67,
   "metadata": {},
   "outputs": [],
   "source": [
    "def train_kmeans(pred, pred_test, n):\n",
    "    kmeans = KMeans(n_clusters=n, random_state=0)\n",
    "    kmeans.fit(pred)\n",
    "\n",
    "    labels = kmeans.predict(pred_test)\n",
    "    return labels, kmeans.labels_, kmeans.inertia_"
   ]
  },
  {
   "cell_type": "code",
   "execution_count": 68,
   "metadata": {},
   "outputs": [],
   "source": [
    "def createDF_labels(pred_test, labels):\n",
    "    pred_df = pd.DataFrame(pred_test, columns = ['x','y','z'])\n",
    "    #pred_df = pd.DataFrame(pred_test, columns = ['x','y'])\n",
    "    pred_df['label'] = labels\n",
    "    return pred_df"
   ]
  },
  {
   "cell_type": "code",
   "execution_count": 69,
   "metadata": {},
   "outputs": [],
   "source": [
    "def descriptionCluster(groups, variable, data):\n",
    "    columns = []\n",
    "    for i in range(0,len(groups)):\n",
    "        columns.append('C'+str(i))\n",
    "    df = pd.DataFrame(columns=columns)\n",
    "\n",
    "    i=0\n",
    "    for clus in groups:\n",
    "        c = (clus[variable].value_counts()*100/len(clus))\n",
    "        df['C'+str(i)] = c\n",
    "        i+=1\n",
    "    df = df.sort_index()\n",
    "    #perc = pd.DataFrame(data[variable].value_counts()*100/len(data))\n",
    "    df = df.fillna(0)\n",
    "    max_values = df.max().values\n",
    "    max_values = max_values[max_values != 0]\n",
    "    l = len(max_values)\n",
    "    value = max_values.sum()/l\n",
    "    return value, df"
   ]
  },
  {
   "cell_type": "code",
   "execution_count": 70,
   "metadata": {},
   "outputs": [],
   "source": [
    "def get_predictions(encoder, X_train, X_test):\n",
    "    pred = encoder.predict(X_train)\n",
    "    pred_test = encoder.predict(X_test)\n",
    "    return pred, pred_test"
   ]
  },
  {
   "cell_type": "markdown",
   "metadata": {},
   "source": [
    "Cargar modelos desde fichero"
   ]
  },
  {
   "cell_type": "code",
   "execution_count": 71,
   "metadata": {},
   "outputs": [
    {
     "name": "stdout",
     "output_type": "stream",
     "text": [
      "WARNING:tensorflow:No training configuration found in the save file, so the model was *not* compiled. Compile it manually.\n"
     ]
    }
   ],
   "source": [
    "model = keras.models.load_model('.\\\\best_model\\\\best_clustering.h5')\n",
    "#model = keras.models.load_model('.\\\\best_model\\\\best_dec.h5')"
   ]
  },
  {
   "cell_type": "code",
   "execution_count": 72,
   "metadata": {},
   "outputs": [],
   "source": [
    "pred, pred_test = get_predictions(model, X_train, X_test)\n",
    "    \n",
    "labels, labels2, _ = train_kmeans(pred, pred_test, 4)\n",
    "pred_df1 = createDF_labels(pred_test, labels)\n",
    "pred_df2 = createDF_labels(pred, labels2)\n",
    "\n",
    "X_test_v = X_test.merge(data.loc[:,['Genero','Edad','Programa']], left_index=True, right_index=True)\n",
    "X_test_v['clus'] = labels\n",
    "\n",
    "X_train_v = X_train.merge(data.loc[:,['Genero','Edad','Programa']], left_index=True, right_index=True)\n",
    "X_train_v['clus'] = labels2"
   ]
  },
  {
   "cell_type": "code",
   "execution_count": 73,
   "metadata": {},
   "outputs": [],
   "source": [
    "clus0 = X_test_v[X_test_v.clus == 0]\n",
    "clus1 = X_test_v[X_test_v.clus == 1]\n",
    "clus2 = X_test_v[X_test_v.clus == 2]\n",
    "clus3 = X_test_v[X_test_v.clus == 3]\n",
    "\n",
    "clus = [clus0, clus1, clus2, clus3]"
   ]
  },
  {
   "cell_type": "code",
   "execution_count": 74,
   "metadata": {},
   "outputs": [
    {
     "data": {
      "text/html": [
       "<div>\n",
       "<style scoped>\n",
       "    .dataframe tbody tr th:only-of-type {\n",
       "        vertical-align: middle;\n",
       "    }\n",
       "\n",
       "    .dataframe tbody tr th {\n",
       "        vertical-align: top;\n",
       "    }\n",
       "\n",
       "    .dataframe thead th {\n",
       "        text-align: right;\n",
       "    }\n",
       "</style>\n",
       "<table border=\"1\" class=\"dataframe\">\n",
       "  <thead>\n",
       "    <tr style=\"text-align: right;\">\n",
       "      <th></th>\n",
       "      <th>C0</th>\n",
       "      <th>C1</th>\n",
       "      <th>C2</th>\n",
       "      <th>C3</th>\n",
       "    </tr>\n",
       "  </thead>\n",
       "  <tbody>\n",
       "    <tr>\n",
       "      <th>0</th>\n",
       "      <td>36.842105</td>\n",
       "      <td>35.714286</td>\n",
       "      <td>28.571429</td>\n",
       "      <td>50.26738</td>\n",
       "    </tr>\n",
       "    <tr>\n",
       "      <th>1</th>\n",
       "      <td>63.157895</td>\n",
       "      <td>64.285714</td>\n",
       "      <td>71.428571</td>\n",
       "      <td>49.73262</td>\n",
       "    </tr>\n",
       "  </tbody>\n",
       "</table>\n",
       "</div>"
      ],
      "text/plain": [
       "          C0         C1         C2        C3\n",
       "0  36.842105  35.714286  28.571429  50.26738\n",
       "1  63.157895  64.285714  71.428571  49.73262"
      ]
     },
     "execution_count": 74,
     "metadata": {},
     "output_type": "execute_result"
    }
   ],
   "source": [
    "v, df = descriptionCluster(clus, 'Genero', X_test_v)\n",
    "value = v\n",
    "df"
   ]
  },
  {
   "cell_type": "code",
   "execution_count": 75,
   "metadata": {},
   "outputs": [
    {
     "data": {
      "text/html": [
       "<div>\n",
       "<style scoped>\n",
       "    .dataframe tbody tr th:only-of-type {\n",
       "        vertical-align: middle;\n",
       "    }\n",
       "\n",
       "    .dataframe tbody tr th {\n",
       "        vertical-align: top;\n",
       "    }\n",
       "\n",
       "    .dataframe thead th {\n",
       "        text-align: right;\n",
       "    }\n",
       "</style>\n",
       "<table border=\"1\" class=\"dataframe\">\n",
       "  <thead>\n",
       "    <tr style=\"text-align: right;\">\n",
       "      <th></th>\n",
       "      <th>C0</th>\n",
       "      <th>C1</th>\n",
       "      <th>C2</th>\n",
       "      <th>C3</th>\n",
       "    </tr>\n",
       "  </thead>\n",
       "  <tbody>\n",
       "    <tr>\n",
       "      <th>0</th>\n",
       "      <td>42.105263</td>\n",
       "      <td>28.571429</td>\n",
       "      <td>28.571429</td>\n",
       "      <td>25.401070</td>\n",
       "    </tr>\n",
       "    <tr>\n",
       "      <th>1</th>\n",
       "      <td>10.526316</td>\n",
       "      <td>35.714286</td>\n",
       "      <td>28.571429</td>\n",
       "      <td>20.588235</td>\n",
       "    </tr>\n",
       "    <tr>\n",
       "      <th>2</th>\n",
       "      <td>26.315789</td>\n",
       "      <td>28.571429</td>\n",
       "      <td>35.714286</td>\n",
       "      <td>29.411765</td>\n",
       "    </tr>\n",
       "    <tr>\n",
       "      <th>3</th>\n",
       "      <td>21.052632</td>\n",
       "      <td>7.142857</td>\n",
       "      <td>7.142857</td>\n",
       "      <td>24.598930</td>\n",
       "    </tr>\n",
       "  </tbody>\n",
       "</table>\n",
       "</div>"
      ],
      "text/plain": [
       "          C0         C1         C2         C3\n",
       "0  42.105263  28.571429  28.571429  25.401070\n",
       "1  10.526316  35.714286  28.571429  20.588235\n",
       "2  26.315789  28.571429  35.714286  29.411765\n",
       "3  21.052632   7.142857   7.142857  24.598930"
      ]
     },
     "execution_count": 75,
     "metadata": {},
     "output_type": "execute_result"
    }
   ],
   "source": [
    "v, df = descriptionCluster(clus, 'Edad', X_test_v)\n",
    "value +=v\n",
    "df"
   ]
  },
  {
   "cell_type": "code",
   "execution_count": 76,
   "metadata": {},
   "outputs": [
    {
     "data": {
      "text/html": [
       "<div>\n",
       "<style scoped>\n",
       "    .dataframe tbody tr th:only-of-type {\n",
       "        vertical-align: middle;\n",
       "    }\n",
       "\n",
       "    .dataframe tbody tr th {\n",
       "        vertical-align: top;\n",
       "    }\n",
       "\n",
       "    .dataframe thead th {\n",
       "        text-align: right;\n",
       "    }\n",
       "</style>\n",
       "<table border=\"1\" class=\"dataframe\">\n",
       "  <thead>\n",
       "    <tr style=\"text-align: right;\">\n",
       "      <th></th>\n",
       "      <th>C0</th>\n",
       "      <th>C1</th>\n",
       "      <th>C2</th>\n",
       "      <th>C3</th>\n",
       "    </tr>\n",
       "  </thead>\n",
       "  <tbody>\n",
       "    <tr>\n",
       "      <th>0</th>\n",
       "      <td>36.842105</td>\n",
       "      <td>42.857143</td>\n",
       "      <td>21.428571</td>\n",
       "      <td>26.470588</td>\n",
       "    </tr>\n",
       "    <tr>\n",
       "      <th>1</th>\n",
       "      <td>18.421053</td>\n",
       "      <td>7.142857</td>\n",
       "      <td>35.714286</td>\n",
       "      <td>23.796791</td>\n",
       "    </tr>\n",
       "    <tr>\n",
       "      <th>2</th>\n",
       "      <td>26.315789</td>\n",
       "      <td>35.714286</td>\n",
       "      <td>21.428571</td>\n",
       "      <td>24.866310</td>\n",
       "    </tr>\n",
       "    <tr>\n",
       "      <th>3</th>\n",
       "      <td>7.894737</td>\n",
       "      <td>14.285714</td>\n",
       "      <td>14.285714</td>\n",
       "      <td>13.903743</td>\n",
       "    </tr>\n",
       "    <tr>\n",
       "      <th>4</th>\n",
       "      <td>10.526316</td>\n",
       "      <td>0.000000</td>\n",
       "      <td>7.142857</td>\n",
       "      <td>9.893048</td>\n",
       "    </tr>\n",
       "  </tbody>\n",
       "</table>\n",
       "</div>"
      ],
      "text/plain": [
       "          C0         C1         C2         C3\n",
       "0  36.842105  42.857143  21.428571  26.470588\n",
       "1  18.421053   7.142857  35.714286  23.796791\n",
       "2  26.315789  35.714286  21.428571  24.866310\n",
       "3   7.894737  14.285714  14.285714  13.903743\n",
       "4  10.526316   0.000000   7.142857   9.893048"
      ]
     },
     "execution_count": 76,
     "metadata": {},
     "output_type": "execute_result"
    }
   ],
   "source": [
    "v, df = descriptionCluster(clus, 'Programa', X_test_v)\n",
    "value +=v\n",
    "df"
   ]
  },
  {
   "cell_type": "code",
   "execution_count": 77,
   "metadata": {},
   "outputs": [
    {
     "data": {
      "text/plain": [
       "44.49744012437511"
      ]
     },
     "execution_count": 77,
     "metadata": {},
     "output_type": "execute_result"
    }
   ],
   "source": [
    "value = value/3\n",
    "value"
   ]
  },
  {
   "cell_type": "code",
   "execution_count": 78,
   "metadata": {},
   "outputs": [
    {
     "data": {
      "text/plain": [
       "0.16089785477966972"
      ]
     },
     "execution_count": 78,
     "metadata": {},
     "output_type": "execute_result"
    }
   ],
   "source": [
    "sil = silhouette_score(X_train, labels2, metric='euclidean')\n",
    "sil"
   ]
  },
  {
   "cell_type": "code",
   "execution_count": 79,
   "metadata": {},
   "outputs": [
    {
     "name": "stdout",
     "output_type": "stream",
     "text": [
      "30.293612801171044\n"
     ]
    }
   ],
   "source": [
    "sil = sil*100\n",
    "print((value+ sil)/2)"
   ]
  },
  {
   "cell_type": "code",
   "execution_count": 80,
   "metadata": {},
   "outputs": [
    {
     "data": {
      "text/plain": [
       "0    26.470588\n",
       "2    24.866310\n",
       "1    23.796791\n",
       "3    13.903743\n",
       "4     9.893048\n",
       "5     1.069519\n",
       "Name: Programa, dtype: float64"
      ]
     },
     "execution_count": 80,
     "metadata": {},
     "output_type": "execute_result"
    }
   ],
   "source": [
    "(clus3['Programa'].value_counts()*100/len(clus3))"
   ]
  },
  {
   "cell_type": "code",
   "execution_count": 81,
   "metadata": {},
   "outputs": [],
   "source": [
    "def clus_description(clus):\n",
    "    df = pd.DataFrame(columns=['C0','C1','C2','C3'])\n",
    "    i = 0\n",
    "    for c in clus:\n",
    "        clus_per = c.loc[:,preguntas_todas].apply(pd.value_counts).sum(axis=1)\n",
    "        s = clus_per*100/clus_per.sum()\n",
    "\n",
    "        df['C'+str(i)] = s\n",
    "        i +=1\n",
    "    return df"
   ]
  },
  {
   "cell_type": "code",
   "execution_count": 82,
   "metadata": {},
   "outputs": [
    {
     "data": {
      "text/html": [
       "<div>\n",
       "<style scoped>\n",
       "    .dataframe tbody tr th:only-of-type {\n",
       "        vertical-align: middle;\n",
       "    }\n",
       "\n",
       "    .dataframe tbody tr th {\n",
       "        vertical-align: top;\n",
       "    }\n",
       "\n",
       "    .dataframe thead th {\n",
       "        text-align: right;\n",
       "    }\n",
       "</style>\n",
       "<table border=\"1\" class=\"dataframe\">\n",
       "  <thead>\n",
       "    <tr style=\"text-align: right;\">\n",
       "      <th></th>\n",
       "      <th>C0</th>\n",
       "      <th>C1</th>\n",
       "      <th>C2</th>\n",
       "      <th>C3</th>\n",
       "    </tr>\n",
       "  </thead>\n",
       "  <tbody>\n",
       "    <tr>\n",
       "      <th>-0.9</th>\n",
       "      <td>11.310190</td>\n",
       "      <td>3.647416</td>\n",
       "      <td>6.838906</td>\n",
       "      <td>56.320401</td>\n",
       "    </tr>\n",
       "    <tr>\n",
       "      <th>-0.4</th>\n",
       "      <td>13.437850</td>\n",
       "      <td>1.215805</td>\n",
       "      <td>8.966565</td>\n",
       "      <td>16.304471</td>\n",
       "    </tr>\n",
       "    <tr>\n",
       "      <th>-0.1</th>\n",
       "      <td>50.671892</td>\n",
       "      <td>2.431611</td>\n",
       "      <td>18.237082</td>\n",
       "      <td>12.561156</td>\n",
       "    </tr>\n",
       "    <tr>\n",
       "      <th>0.4</th>\n",
       "      <td>15.509518</td>\n",
       "      <td>20.060790</td>\n",
       "      <td>42.553191</td>\n",
       "      <td>8.379793</td>\n",
       "    </tr>\n",
       "    <tr>\n",
       "      <th>0.9</th>\n",
       "      <td>9.070549</td>\n",
       "      <td>72.644377</td>\n",
       "      <td>23.404255</td>\n",
       "      <td>6.434179</td>\n",
       "    </tr>\n",
       "  </tbody>\n",
       "</table>\n",
       "</div>"
      ],
      "text/plain": [
       "             C0         C1         C2         C3\n",
       "-0.9  11.310190   3.647416   6.838906  56.320401\n",
       "-0.4  13.437850   1.215805   8.966565  16.304471\n",
       "-0.1  50.671892   2.431611  18.237082  12.561156\n",
       " 0.4  15.509518  20.060790  42.553191   8.379793\n",
       " 0.9   9.070549  72.644377  23.404255   6.434179"
      ]
     },
     "execution_count": 82,
     "metadata": {},
     "output_type": "execute_result"
    }
   ],
   "source": [
    "df_clus = clus_description(clus)\n",
    "df_clus"
   ]
  },
  {
   "cell_type": "code",
   "execution_count": 83,
   "metadata": {},
   "outputs": [
    {
     "data": {
      "application/vnd.plotly.v1+json": {
       "config": {
        "plotlyServerURL": "https://plot.ly"
       },
       "data": [
        {
         "hovertemplate": "variable=C0<br>index=%{x}<br>value=%{y}<extra></extra>",
         "legendgroup": "C0",
         "line": {
          "color": "blue",
          "dash": "solid",
          "width": 5
         },
         "marker": {
          "symbol": "circle"
         },
         "mode": "lines",
         "name": "C0",
         "orientation": "v",
         "showlegend": true,
         "type": "scatter",
         "x": [
          -0.9,
          -0.4,
          -0.1,
          0.4,
          0.9
         ],
         "xaxis": "x",
         "y": [
          11.310190369540873,
          13.437849944008958,
          50.671892497200446,
          15.509518477043674,
          9.070548712206048
         ],
         "yaxis": "y"
        },
        {
         "hovertemplate": "variable=C1<br>index=%{x}<br>value=%{y}<extra></extra>",
         "legendgroup": "C1",
         "line": {
          "color": "purple",
          "dash": "solid",
          "width": 5
         },
         "marker": {
          "symbol": "circle"
         },
         "mode": "lines",
         "name": "C1",
         "orientation": "v",
         "showlegend": true,
         "type": "scatter",
         "x": [
          -0.9,
          -0.4,
          -0.1,
          0.4,
          0.9
         ],
         "xaxis": "x",
         "y": [
          3.6474164133738602,
          1.21580547112462,
          2.43161094224924,
          20.060790273556233,
          72.64437689969606
         ],
         "yaxis": "y"
        },
        {
         "hovertemplate": "variable=C2<br>index=%{x}<br>value=%{y}<extra></extra>",
         "legendgroup": "C2",
         "line": {
          "color": "orange",
          "dash": "solid",
          "width": 5
         },
         "marker": {
          "symbol": "circle"
         },
         "mode": "lines",
         "name": "C2",
         "orientation": "v",
         "showlegend": true,
         "type": "scatter",
         "x": [
          -0.9,
          -0.4,
          -0.1,
          0.4,
          0.9
         ],
         "xaxis": "x",
         "y": [
          6.838905775075988,
          8.966565349544073,
          18.237082066869302,
          42.5531914893617,
          23.404255319148938
         ],
         "yaxis": "y"
        },
        {
         "hovertemplate": "variable=C3<br>index=%{x}<br>value=%{y}<extra></extra>",
         "legendgroup": "C3",
         "line": {
          "color": "yellow",
          "dash": "solid",
          "width": 5
         },
         "marker": {
          "symbol": "circle"
         },
         "mode": "lines",
         "name": "C3",
         "orientation": "v",
         "showlegend": true,
         "type": "scatter",
         "x": [
          -0.9,
          -0.4,
          -0.1,
          0.4,
          0.9
         ],
         "xaxis": "x",
         "y": [
          56.32040050062578,
          16.30447149846399,
          12.561155990442598,
          8.379792922971896,
          6.434179087495734
         ],
         "yaxis": "y"
        }
       ],
       "layout": {
        "font": {
         "size": 20
        },
        "height": 800,
        "legend": {
         "title": {
          "text": "variable"
         },
         "tracegroupgap": 0
        },
        "margin": {
         "t": 60
        },
        "template": {
         "data": {
          "bar": [
           {
            "error_x": {
             "color": "#2a3f5f"
            },
            "error_y": {
             "color": "#2a3f5f"
            },
            "marker": {
             "line": {
              "color": "#E5ECF6",
              "width": 0.5
             },
             "pattern": {
              "fillmode": "overlay",
              "size": 10,
              "solidity": 0.2
             }
            },
            "type": "bar"
           }
          ],
          "barpolar": [
           {
            "marker": {
             "line": {
              "color": "#E5ECF6",
              "width": 0.5
             },
             "pattern": {
              "fillmode": "overlay",
              "size": 10,
              "solidity": 0.2
             }
            },
            "type": "barpolar"
           }
          ],
          "carpet": [
           {
            "aaxis": {
             "endlinecolor": "#2a3f5f",
             "gridcolor": "white",
             "linecolor": "white",
             "minorgridcolor": "white",
             "startlinecolor": "#2a3f5f"
            },
            "baxis": {
             "endlinecolor": "#2a3f5f",
             "gridcolor": "white",
             "linecolor": "white",
             "minorgridcolor": "white",
             "startlinecolor": "#2a3f5f"
            },
            "type": "carpet"
           }
          ],
          "choropleth": [
           {
            "colorbar": {
             "outlinewidth": 0,
             "ticks": ""
            },
            "type": "choropleth"
           }
          ],
          "contour": [
           {
            "colorbar": {
             "outlinewidth": 0,
             "ticks": ""
            },
            "colorscale": [
             [
              0,
              "#0d0887"
             ],
             [
              0.1111111111111111,
              "#46039f"
             ],
             [
              0.2222222222222222,
              "#7201a8"
             ],
             [
              0.3333333333333333,
              "#9c179e"
             ],
             [
              0.4444444444444444,
              "#bd3786"
             ],
             [
              0.5555555555555556,
              "#d8576b"
             ],
             [
              0.6666666666666666,
              "#ed7953"
             ],
             [
              0.7777777777777778,
              "#fb9f3a"
             ],
             [
              0.8888888888888888,
              "#fdca26"
             ],
             [
              1,
              "#f0f921"
             ]
            ],
            "type": "contour"
           }
          ],
          "contourcarpet": [
           {
            "colorbar": {
             "outlinewidth": 0,
             "ticks": ""
            },
            "type": "contourcarpet"
           }
          ],
          "heatmap": [
           {
            "colorbar": {
             "outlinewidth": 0,
             "ticks": ""
            },
            "colorscale": [
             [
              0,
              "#0d0887"
             ],
             [
              0.1111111111111111,
              "#46039f"
             ],
             [
              0.2222222222222222,
              "#7201a8"
             ],
             [
              0.3333333333333333,
              "#9c179e"
             ],
             [
              0.4444444444444444,
              "#bd3786"
             ],
             [
              0.5555555555555556,
              "#d8576b"
             ],
             [
              0.6666666666666666,
              "#ed7953"
             ],
             [
              0.7777777777777778,
              "#fb9f3a"
             ],
             [
              0.8888888888888888,
              "#fdca26"
             ],
             [
              1,
              "#f0f921"
             ]
            ],
            "type": "heatmap"
           }
          ],
          "heatmapgl": [
           {
            "colorbar": {
             "outlinewidth": 0,
             "ticks": ""
            },
            "colorscale": [
             [
              0,
              "#0d0887"
             ],
             [
              0.1111111111111111,
              "#46039f"
             ],
             [
              0.2222222222222222,
              "#7201a8"
             ],
             [
              0.3333333333333333,
              "#9c179e"
             ],
             [
              0.4444444444444444,
              "#bd3786"
             ],
             [
              0.5555555555555556,
              "#d8576b"
             ],
             [
              0.6666666666666666,
              "#ed7953"
             ],
             [
              0.7777777777777778,
              "#fb9f3a"
             ],
             [
              0.8888888888888888,
              "#fdca26"
             ],
             [
              1,
              "#f0f921"
             ]
            ],
            "type": "heatmapgl"
           }
          ],
          "histogram": [
           {
            "marker": {
             "pattern": {
              "fillmode": "overlay",
              "size": 10,
              "solidity": 0.2
             }
            },
            "type": "histogram"
           }
          ],
          "histogram2d": [
           {
            "colorbar": {
             "outlinewidth": 0,
             "ticks": ""
            },
            "colorscale": [
             [
              0,
              "#0d0887"
             ],
             [
              0.1111111111111111,
              "#46039f"
             ],
             [
              0.2222222222222222,
              "#7201a8"
             ],
             [
              0.3333333333333333,
              "#9c179e"
             ],
             [
              0.4444444444444444,
              "#bd3786"
             ],
             [
              0.5555555555555556,
              "#d8576b"
             ],
             [
              0.6666666666666666,
              "#ed7953"
             ],
             [
              0.7777777777777778,
              "#fb9f3a"
             ],
             [
              0.8888888888888888,
              "#fdca26"
             ],
             [
              1,
              "#f0f921"
             ]
            ],
            "type": "histogram2d"
           }
          ],
          "histogram2dcontour": [
           {
            "colorbar": {
             "outlinewidth": 0,
             "ticks": ""
            },
            "colorscale": [
             [
              0,
              "#0d0887"
             ],
             [
              0.1111111111111111,
              "#46039f"
             ],
             [
              0.2222222222222222,
              "#7201a8"
             ],
             [
              0.3333333333333333,
              "#9c179e"
             ],
             [
              0.4444444444444444,
              "#bd3786"
             ],
             [
              0.5555555555555556,
              "#d8576b"
             ],
             [
              0.6666666666666666,
              "#ed7953"
             ],
             [
              0.7777777777777778,
              "#fb9f3a"
             ],
             [
              0.8888888888888888,
              "#fdca26"
             ],
             [
              1,
              "#f0f921"
             ]
            ],
            "type": "histogram2dcontour"
           }
          ],
          "mesh3d": [
           {
            "colorbar": {
             "outlinewidth": 0,
             "ticks": ""
            },
            "type": "mesh3d"
           }
          ],
          "parcoords": [
           {
            "line": {
             "colorbar": {
              "outlinewidth": 0,
              "ticks": ""
             }
            },
            "type": "parcoords"
           }
          ],
          "pie": [
           {
            "automargin": true,
            "type": "pie"
           }
          ],
          "scatter": [
           {
            "fillpattern": {
             "fillmode": "overlay",
             "size": 10,
             "solidity": 0.2
            },
            "type": "scatter"
           }
          ],
          "scatter3d": [
           {
            "line": {
             "colorbar": {
              "outlinewidth": 0,
              "ticks": ""
             }
            },
            "marker": {
             "colorbar": {
              "outlinewidth": 0,
              "ticks": ""
             }
            },
            "type": "scatter3d"
           }
          ],
          "scattercarpet": [
           {
            "marker": {
             "colorbar": {
              "outlinewidth": 0,
              "ticks": ""
             }
            },
            "type": "scattercarpet"
           }
          ],
          "scattergeo": [
           {
            "marker": {
             "colorbar": {
              "outlinewidth": 0,
              "ticks": ""
             }
            },
            "type": "scattergeo"
           }
          ],
          "scattergl": [
           {
            "marker": {
             "colorbar": {
              "outlinewidth": 0,
              "ticks": ""
             }
            },
            "type": "scattergl"
           }
          ],
          "scattermapbox": [
           {
            "marker": {
             "colorbar": {
              "outlinewidth": 0,
              "ticks": ""
             }
            },
            "type": "scattermapbox"
           }
          ],
          "scatterpolar": [
           {
            "marker": {
             "colorbar": {
              "outlinewidth": 0,
              "ticks": ""
             }
            },
            "type": "scatterpolar"
           }
          ],
          "scatterpolargl": [
           {
            "marker": {
             "colorbar": {
              "outlinewidth": 0,
              "ticks": ""
             }
            },
            "type": "scatterpolargl"
           }
          ],
          "scatterternary": [
           {
            "marker": {
             "colorbar": {
              "outlinewidth": 0,
              "ticks": ""
             }
            },
            "type": "scatterternary"
           }
          ],
          "surface": [
           {
            "colorbar": {
             "outlinewidth": 0,
             "ticks": ""
            },
            "colorscale": [
             [
              0,
              "#0d0887"
             ],
             [
              0.1111111111111111,
              "#46039f"
             ],
             [
              0.2222222222222222,
              "#7201a8"
             ],
             [
              0.3333333333333333,
              "#9c179e"
             ],
             [
              0.4444444444444444,
              "#bd3786"
             ],
             [
              0.5555555555555556,
              "#d8576b"
             ],
             [
              0.6666666666666666,
              "#ed7953"
             ],
             [
              0.7777777777777778,
              "#fb9f3a"
             ],
             [
              0.8888888888888888,
              "#fdca26"
             ],
             [
              1,
              "#f0f921"
             ]
            ],
            "type": "surface"
           }
          ],
          "table": [
           {
            "cells": {
             "fill": {
              "color": "#EBF0F8"
             },
             "line": {
              "color": "white"
             }
            },
            "header": {
             "fill": {
              "color": "#C8D4E3"
             },
             "line": {
              "color": "white"
             }
            },
            "type": "table"
           }
          ]
         },
         "layout": {
          "annotationdefaults": {
           "arrowcolor": "#2a3f5f",
           "arrowhead": 0,
           "arrowwidth": 1
          },
          "autotypenumbers": "strict",
          "coloraxis": {
           "colorbar": {
            "outlinewidth": 0,
            "ticks": ""
           }
          },
          "colorscale": {
           "diverging": [
            [
             0,
             "#8e0152"
            ],
            [
             0.1,
             "#c51b7d"
            ],
            [
             0.2,
             "#de77ae"
            ],
            [
             0.3,
             "#f1b6da"
            ],
            [
             0.4,
             "#fde0ef"
            ],
            [
             0.5,
             "#f7f7f7"
            ],
            [
             0.6,
             "#e6f5d0"
            ],
            [
             0.7,
             "#b8e186"
            ],
            [
             0.8,
             "#7fbc41"
            ],
            [
             0.9,
             "#4d9221"
            ],
            [
             1,
             "#276419"
            ]
           ],
           "sequential": [
            [
             0,
             "#0d0887"
            ],
            [
             0.1111111111111111,
             "#46039f"
            ],
            [
             0.2222222222222222,
             "#7201a8"
            ],
            [
             0.3333333333333333,
             "#9c179e"
            ],
            [
             0.4444444444444444,
             "#bd3786"
            ],
            [
             0.5555555555555556,
             "#d8576b"
            ],
            [
             0.6666666666666666,
             "#ed7953"
            ],
            [
             0.7777777777777778,
             "#fb9f3a"
            ],
            [
             0.8888888888888888,
             "#fdca26"
            ],
            [
             1,
             "#f0f921"
            ]
           ],
           "sequentialminus": [
            [
             0,
             "#0d0887"
            ],
            [
             0.1111111111111111,
             "#46039f"
            ],
            [
             0.2222222222222222,
             "#7201a8"
            ],
            [
             0.3333333333333333,
             "#9c179e"
            ],
            [
             0.4444444444444444,
             "#bd3786"
            ],
            [
             0.5555555555555556,
             "#d8576b"
            ],
            [
             0.6666666666666666,
             "#ed7953"
            ],
            [
             0.7777777777777778,
             "#fb9f3a"
            ],
            [
             0.8888888888888888,
             "#fdca26"
            ],
            [
             1,
             "#f0f921"
            ]
           ]
          },
          "colorway": [
           "#636efa",
           "#EF553B",
           "#00cc96",
           "#ab63fa",
           "#FFA15A",
           "#19d3f3",
           "#FF6692",
           "#B6E880",
           "#FF97FF",
           "#FECB52"
          ],
          "font": {
           "color": "#2a3f5f"
          },
          "geo": {
           "bgcolor": "white",
           "lakecolor": "white",
           "landcolor": "#E5ECF6",
           "showlakes": true,
           "showland": true,
           "subunitcolor": "white"
          },
          "hoverlabel": {
           "align": "left"
          },
          "hovermode": "closest",
          "mapbox": {
           "style": "light"
          },
          "paper_bgcolor": "white",
          "plot_bgcolor": "#E5ECF6",
          "polar": {
           "angularaxis": {
            "gridcolor": "white",
            "linecolor": "white",
            "ticks": ""
           },
           "bgcolor": "#E5ECF6",
           "radialaxis": {
            "gridcolor": "white",
            "linecolor": "white",
            "ticks": ""
           }
          },
          "scene": {
           "xaxis": {
            "backgroundcolor": "#E5ECF6",
            "gridcolor": "white",
            "gridwidth": 2,
            "linecolor": "white",
            "showbackground": true,
            "ticks": "",
            "zerolinecolor": "white"
           },
           "yaxis": {
            "backgroundcolor": "#E5ECF6",
            "gridcolor": "white",
            "gridwidth": 2,
            "linecolor": "white",
            "showbackground": true,
            "ticks": "",
            "zerolinecolor": "white"
           },
           "zaxis": {
            "backgroundcolor": "#E5ECF6",
            "gridcolor": "white",
            "gridwidth": 2,
            "linecolor": "white",
            "showbackground": true,
            "ticks": "",
            "zerolinecolor": "white"
           }
          },
          "shapedefaults": {
           "line": {
            "color": "#2a3f5f"
           }
          },
          "ternary": {
           "aaxis": {
            "gridcolor": "white",
            "linecolor": "white",
            "ticks": ""
           },
           "baxis": {
            "gridcolor": "white",
            "linecolor": "white",
            "ticks": ""
           },
           "bgcolor": "#E5ECF6",
           "caxis": {
            "gridcolor": "white",
            "linecolor": "white",
            "ticks": ""
           }
          },
          "title": {
           "x": 0.05
          },
          "xaxis": {
           "automargin": true,
           "gridcolor": "white",
           "linecolor": "white",
           "ticks": "",
           "title": {
            "standoff": 15
           },
           "zerolinecolor": "white",
           "zerolinewidth": 2
          },
          "yaxis": {
           "automargin": true,
           "gridcolor": "white",
           "linecolor": "white",
           "ticks": "",
           "title": {
            "standoff": 15
           },
           "zerolinecolor": "white",
           "zerolinewidth": 2
          }
         }
        },
        "width": 1000,
        "xaxis": {
         "anchor": "y",
         "domain": [
          0,
          1
         ],
         "title": {
          "text": "index"
         }
        },
        "yaxis": {
         "anchor": "x",
         "domain": [
          0,
          1
         ],
         "title": {
          "text": "value"
         }
        }
       }
      }
     },
     "metadata": {},
     "output_type": "display_data"
    }
   ],
   "source": [
    "fig = px.line(df_clus, height=800, width=1000, color_discrete_map={\n",
    "                 \"C0\": \"blue\",\n",
    "                 \"C1\": \"purple\",\n",
    "                 \"C2\": \"orange\",\n",
    "                 \"C3\": \"yellow\"\n",
    "             })\n",
    "fig.update_layout(font=dict(size= 20))\n",
    "fig.update_traces(line_width=5)\n",
    "fig.show()"
   ]
  }
 ],
 "metadata": {
  "kernelspec": {
   "display_name": "Python 3.9.7 64-bit",
   "language": "python",
   "name": "python3"
  },
  "language_info": {
   "codemirror_mode": {
    "name": "ipython",
    "version": 3
   },
   "file_extension": ".py",
   "mimetype": "text/x-python",
   "name": "python",
   "nbconvert_exporter": "python",
   "pygments_lexer": "ipython3",
   "version": "3.9.7"
  },
  "orig_nbformat": 4,
  "vscode": {
   "interpreter": {
    "hash": "47530cf65788bef88d68f9b1162c12628485a0c62cf24e41bf271603adfde28c"
   }
  }
 },
 "nbformat": 4,
 "nbformat_minor": 2
}
