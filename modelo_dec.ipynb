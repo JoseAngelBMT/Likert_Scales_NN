{
 "cells": [
  {
   "cell_type": "code",
   "execution_count": 381,
   "id": "4ecd4699",
   "metadata": {
    "_cell_guid": "b1076dfc-b9ad-4769-8c92-a6c4dae69d19",
    "_uuid": "8f2839f25d086af736a60e9eeb907d3b93b6e0e5",
    "execution": {
     "iopub.execute_input": "2022-07-13T14:31:44.521925Z",
     "iopub.status.busy": "2022-07-13T14:31:44.521381Z",
     "iopub.status.idle": "2022-07-13T14:31:53.026930Z",
     "shell.execute_reply": "2022-07-13T14:31:53.025574Z"
    },
    "papermill": {
     "duration": 8.516571,
     "end_time": "2022-07-13T14:31:53.030332",
     "exception": false,
     "start_time": "2022-07-13T14:31:44.513761",
     "status": "completed"
    },
    "tags": []
   },
   "outputs": [],
   "source": [
    "import numpy as np\n",
    "import pandas as pd\n",
    "import matplotlib.pyplot as plt\n",
    "\n",
    "from sklearn.model_selection import train_test_split\n",
    "from sklearn.preprocessing import LabelEncoder\n",
    "\n",
    "import keras\n",
    "import tensorflow as tf\n",
    "\n",
    "from tensorflow.keras.models import Sequential\n",
    "from tensorflow.keras.layers import Input,InputLayer, Conv2D, MaxPooling2D, Flatten, Dense, Dropout, BatchNormalization\n",
    "from tensorflow.keras import applications, initializers, Model, optimizers, metrics\n",
    "from sklearn.metrics import accuracy_score, mean_squared_error, r2_score, mean_absolute_percentage_error\n",
    "from sklearn.preprocessing import OneHotEncoder, MinMaxScaler, StandardScaler\n",
    "from tensorflow.keras.utils import to_categorical\n",
    "\n",
    "from sklearn import preprocessing\n",
    "from sklearn import tree\n",
    "\n",
    "from keras.callbacks import LearningRateScheduler, ModelCheckpoint\n",
    "\n",
    "from sklearn.cluster import AgglomerativeClustering, KMeans\n",
    "\n",
    "from sklearn.metrics import silhouette_samples, silhouette_score\n",
    "\n",
    "import plotly.express as px"
   ]
  },
  {
   "cell_type": "code",
   "execution_count": 382,
   "id": "436ebc6b",
   "metadata": {
    "execution": {
     "iopub.execute_input": "2022-07-13T14:31:53.042260Z",
     "iopub.status.busy": "2022-07-13T14:31:53.041419Z",
     "iopub.status.idle": "2022-07-13T14:31:53.089091Z",
     "shell.execute_reply": "2022-07-13T14:31:53.087939Z"
    },
    "papermill": {
     "duration": 0.056232,
     "end_time": "2022-07-13T14:31:53.091624",
     "exception": false,
     "start_time": "2022-07-13T14:31:53.035392",
     "status": "completed"
    },
    "tags": []
   },
   "outputs": [],
   "source": [
    "data = pd.read_csv(\"datosnuevos.csv\",encoding='latin-1',index_col=0,sep = \";\")\n",
    "data = data.dropna()\n",
    "data = data.rename(columns={'P47,':'P47'})\n",
    "data['P47'] = data['P47'].str.replace(\",\",\"\")\n",
    "data = data.drop(['Perfil','Periodo','Curso'], axis=1)"
   ]
  },
  {
   "cell_type": "code",
   "execution_count": 383,
   "id": "8f7e0d50",
   "metadata": {
    "execution": {
     "iopub.execute_input": "2022-07-13T14:31:53.229518Z",
     "iopub.status.busy": "2022-07-13T14:31:53.229008Z",
     "iopub.status.idle": "2022-07-13T14:31:53.242524Z",
     "shell.execute_reply": "2022-07-13T14:31:53.241684Z"
    },
    "papermill": {
     "duration": 0.02263,
     "end_time": "2022-07-13T14:31:53.244439",
     "exception": false,
     "start_time": "2022-07-13T14:31:53.221809",
     "status": "completed"
    },
    "tags": []
   },
   "outputs": [],
   "source": [
    "encode_norm = {\"Totalmente en desacuerdo\":-0.9,\"Levemente en desacuerdo\":-0.4,\"Ni de deacuerdo ni en desacuerdo\":-0.1,\"Medianamente de acuerdo\":0.4,\"Totalmente de acuerdo\":0.9}\n",
    "preguntas = []\n",
    "for i in range(1,48):\n",
    "    preguntas.append(\"P\"+str(i))\n",
    "    data[\"P\"+str(i)] = data[\"P\"+str(i)].map(encode_norm)\n",
    "data[\"Genero\"] = data[\"Genero\"].map({\"Femenino\": 0, \"Masculino\":1})"
   ]
  },
  {
   "cell_type": "code",
   "execution_count": 384,
   "id": "7060dfc2",
   "metadata": {},
   "outputs": [],
   "source": [
    "ramas = {\"ADMINISTRACION DE EMPRESAS\": \"CCSS\", \"AGRONOMIA\":\"C\",\"TECNOLOGIA EN REGENCIA DE FARMACIA\":\"SALUD\",\"ZOOTECNIA\":\"C\",\"COMUNICACION SOCIAL\":\"AYH\",\n",
    "\"LICENCIATURA EN MATEMATICAS\":\"C\",\"TECNOLOGIA EN REGENCIA DE FARMACIA (RESOLUCION 08200)\":\"SALUD\",\"LICENCIATURA EN INGLES COMO LENGUA EXTRANJERA\":\"AYH\",\n",
    "\"TECNOLOGIA EN SISTEMAS AGROFORESTALES\":\"C\",\"LICENCIATURA EN ETNOEDUCACION\":\"AYH\",\"TECNOLOGIA AGROFORESTAL\":\"C\",\"TECNOLOG?A EN DESAROLLO DE SOFTWARE\":\"ING\",\n",
    "\"ADMINISTRACION EN SALUD\":\"SALUD\",\"TECNOLOGIA EN PRODUCCION AGRICOLA\":\"C\",\"LICENCIATURA EN FILOSOFIA\":\"AYH\",\"CURSOS LIBRES\":\"OTROS\",\n",
    "\"TECNOLOGIA EN SISTEMAS DE COMUNICACIONES INAL?MBRICAS\":\"ING\",\"TECNOLOGIA EN PRODUCCION DE AUDIO\":\"ING\",\"TECNOLOGIA EN SANEAMIENTO AMBIENTAL\":\"C\",\n",
    "\"TECNOLOGIA EN AUDIO\":\"ING\",\"LICENCIATURA EN LENGUAS EXTRANJERAS CON ?NFASIS EN INGL?S\":\"AYH\",\"PSICOLOGIA\":\"AYH\",\"TECNOLOGIA INDUSTRIAL\":\"ING\",\n",
    "\"ADULTO MAYOR, ACTOR SOCIAL\":\"OTROS\",\"ARTES VISUALES\":\"AYH\",\"TECNOLOGIA DE TELECOMUNICACIONES\":\"ING\",\"TECNOLOGIA EN RADIOLOGIA E IMAGENES DIAGNOSTICAS\":\"SALUD\",\n",
    "\"Música\":\"AYH\",\"LICENCIATURA EN ETNOEDUCACI?N (RESOLUCI?N 26750)\":\"AYH\",\"CURRICULA Y PEDAGOGIA\":\"CCSS\",\"FILOSOFIA\":\"AYH\",\"QUIMICA\":\"C\",\n",
    "\"TECNOLOGIA EN GESTION COMERCIAL Y DE NEGOCIOS\":\"CCSS\",\"Bachillerato a distancia\":\"OTROS\",\"TECNOLOGIA EN SISTEMAS\":\"ING\",\"TECNOLOGIA EN GESTION AGROPECUARIA\":\"C\"}\n",
    "data[\"Programa\"] = data[\"Programa\"].replace(ramas)\n",
    "data.loc[data['Programa'].str.contains('INGENIER'), 'Programa'] = 'ING'\n",
    "data.loc[data['Programa'].str.contains('CICLO'), 'Programa'] = 'OTROS'\n",
    "data.Programa = data.Programa.map({\"CCSS\":0,\"C\":1,\"ING\":2,\"SALUD\":3,\"AYH\":4,\"OTROS\":5})"
   ]
  },
  {
   "cell_type": "code",
   "execution_count": 385,
   "id": "ffd786fd",
   "metadata": {},
   "outputs": [],
   "source": [
    "data.Edad = pd.qcut(data.Edad, q=4, precision = 0,labels=False)"
   ]
  },
  {
   "cell_type": "code",
   "execution_count": 386,
   "id": "fa5add24",
   "metadata": {},
   "outputs": [],
   "source": [
    "X = data.loc[:,preguntas]\n",
    "y = data.loc[:,preguntas]\n",
    "\n",
    "X_train, X_test, y_train, y_test = train_test_split(X, y, test_size=0.3, random_state=1)\n",
    "X_val, X_test, y_val, y_test = train_test_split(X_test, y_test, test_size = 0.5, random_state=1)"
   ]
  },
  {
   "cell_type": "code",
   "execution_count": 387,
   "id": "439eb6fe",
   "metadata": {},
   "outputs": [],
   "source": [
    "def autoencoder():\n",
    "    input_shape = (X.shape[1],)\n",
    "    model = Sequential()\n",
    "    #Input\n",
    "    model.add(InputLayer(input_shape=input_shape))\n",
    "\n",
    "    #Hidden\n",
    "\n",
    "    model.add(Dense(64 , activation = \"tanh\"))\n",
    "    model.add(Dense(16 , activation = \"tanh\"))\n",
    "    model.add(Dense(8  , activation = \"tanh\"))\n",
    "    model.add(Dense(16 , activation = \"tanh\")) \n",
    "    model.add(Dense(64 , activation = \"tanh\"))\n",
    "    #Output\n",
    "    model.add(Dense(X.shape[1], activation = 'linear'))\n",
    "\n",
    "\n",
    "   #model.compile(loss = \"mse\",#loss=\"categorical_crossentropy\",optimizer=tf.keras.optimizers.Adam(learning_rate=1e-3),metrics=[\"mean_squared_error\"])\n",
    "    return model"
   ]
  },
  {
   "cell_type": "code",
   "execution_count": 388,
   "id": "020afefe",
   "metadata": {},
   "outputs": [],
   "source": [
    "def train_encoder(model):\n",
    "    annealer = LearningRateScheduler(lambda x: 1e-3 * 0.95 ** x)\n",
    "    callback_es = tf.keras.callbacks.EarlyStopping(monitor='val_loss', patience=1)\n",
    "\n",
    "    model.fit(X_train, X_train,  validation_data=(X_val,X_val),\n",
    "        callbacks = [callback_es],\n",
    "        batch_size = 32, epochs=200, verbose = 0)\n",
    "\n",
    "    encoder = Model(model.input, model.layers[-4].output)\n",
    "    return encoder,model"
   ]
  },
  {
   "cell_type": "code",
   "execution_count": 389,
   "id": "703c5f96",
   "metadata": {},
   "outputs": [],
   "source": [
    "def get_predictions(encoder, X):\n",
    "    pred = encoder.predict(X)\n",
    "    return pred"
   ]
  },
  {
   "cell_type": "code",
   "execution_count": 390,
   "id": "7921fd13",
   "metadata": {},
   "outputs": [],
   "source": [
    "def train_kmeans(pred, pred_test, n):\n",
    "    kmeans = KMeans(n_clusters=n, random_state=0)\n",
    "    kmeans.fit(pred)\n",
    "\n",
    "    labels = kmeans.predict(pred_test)\n",
    "    return kmeans"
   ]
  },
  {
   "cell_type": "code",
   "execution_count": 391,
   "id": "9446a4a8",
   "metadata": {},
   "outputs": [],
   "source": [
    "def createDF_labels(pred_test, labels):\n",
    "    pred_df = pd.DataFrame(pred_test, columns = ['x','y','z'])\n",
    "    pred_df['label'] = labels\n",
    "    return pred_df"
   ]
  },
  {
   "cell_type": "code",
   "execution_count": 392,
   "id": "4956af04",
   "metadata": {},
   "outputs": [],
   "source": [
    "def descriptionCluster(groups, variable, data):\n",
    "    columns = []\n",
    "    for i in range(0,len(groups)):\n",
    "        columns.append('C'+str(i))\n",
    "    df = pd.DataFrame(columns=columns)\n",
    "\n",
    "    i=0\n",
    "    for clus in groups:\n",
    "        c = (clus[variable].value_counts()*100/len(clus))\n",
    "        df['C'+str(i)] = c\n",
    "        i+=1\n",
    "    df = df.sort_index()\n",
    "    #perc = pd.DataFrame(data[variable].value_counts()*100/len(data))\n",
    "    df = df.fillna(0)\n",
    "    max_values = df.max().values\n",
    "    max_values = max_values[max_values != 0]\n",
    "    l = len(max_values)\n",
    "    value = max_values.sum()/l\n",
    "    return value, df"
   ]
  },
  {
   "cell_type": "code",
   "execution_count": 393,
   "id": "1b7ca24a",
   "metadata": {},
   "outputs": [],
   "source": [
    "from tensorflow.keras.layers import InputSpec\n",
    "from keras import backend as K\n",
    "\n",
    "class ClusteringLayer(tf.keras.layers.Layer):\n",
    "\n",
    "    def __init__(self, n_clusters, weights=None, alpha=1.0, **kwargs):\n",
    "        if 'input_shape' not in kwargs and 'input_dim' in kwargs:\n",
    "            kwargs['input_shape'] = (kwargs.pop('input_dim'),)\n",
    "        super(ClusteringLayer, self).__init__(**kwargs)\n",
    "        self.n_clusters = n_clusters\n",
    "        self.alpha = alpha\n",
    "        self.initial_weights = weights\n",
    "        self.input_spec = InputSpec(ndim=2)\n",
    "\n",
    "    def build(self, input_shape):\n",
    "        assert len(input_shape) == 2\n",
    "        input_dim = input_shape[1]\n",
    "        self.input_spec = InputSpec(dtype=K.floatx(), shape=(None, input_dim))\n",
    "        self.clusters = self.add_weight(name='clusters', shape=(self.n_clusters, input_dim), initializer='glorot_uniform') \n",
    "        \n",
    "        if self.initial_weights is not None:\n",
    "            self.set_weights(self.initial_weights)\n",
    "            del self.initial_weights\n",
    "        self.built = True\n",
    "\n",
    "    def call(self, inputs, **kwargs):\n",
    "        q = 1.0 / (1.0 + (K.sum(K.square(K.expand_dims(inputs, axis=1) - self.clusters), axis=2) / self.alpha))\n",
    "        q **= (self.alpha + 1.0) / 2.0\n",
    "        q = K.transpose(K.transpose(q) / K.sum(q, axis=1))\n",
    "        \n",
    "        return q\n",
    "\n",
    "    def compute_output_shape(self, input_shape):\n",
    "        assert input_shape and len(input_shape) == 2\n",
    "        return input_shape[0], self.n_clusters\n",
    "        \n",
    "    def get_config(self):\n",
    "        config = {'n_clusters': self.n_clusters}\n",
    "        base_config = super(ClusteringLayer, self).get_config()\n",
    "        return dict(list(base_config.items()) + list(config.items()))"
   ]
  },
  {
   "cell_type": "code",
   "execution_count": 394,
   "id": "51385200",
   "metadata": {},
   "outputs": [],
   "source": [
    "def descriptionCluster(groups, variable, data):\n",
    "    columns = []\n",
    "    for i in range(0,len(groups)):\n",
    "        columns.append('C'+str(i))\n",
    "    df = pd.DataFrame(columns=columns)\n",
    "\n",
    "    i=0\n",
    "    for clus in groups:\n",
    "        c = (clus[variable].value_counts()*100/len(clus))\n",
    "        df['C'+str(i)] = c\n",
    "        i+=1\n",
    "    df = df.sort_index()\n",
    "    #perc = pd.DataFrame(data[variable].value_counts()*100/len(data))\n",
    "    df = df.fillna(0)\n",
    "    max_values = df.max().values\n",
    "    max_values = max_values[max_values != 0]\n",
    "    l = len(max_values)\n",
    "    value = max_values.sum()/l\n",
    "    return value, df"
   ]
  },
  {
   "cell_type": "code",
   "execution_count": 395,
   "id": "7b7a222b",
   "metadata": {},
   "outputs": [],
   "source": [
    "def score_ac(y_pred_test):\n",
    "    X_test_v= X_test.merge(data.loc[:,['Genero','Edad','Programa']], left_index=True, right_index=True)\n",
    "    X_test_v['clus'] = y_pred_test\n",
    "    \n",
    "    clus0 = X_test_v[X_test_v.clus == 0]\n",
    "    clus1 = X_test_v[X_test_v.clus == 1]\n",
    "    clus2 = X_test_v[X_test_v.clus == 2]\n",
    "    clus3 = X_test_v[X_test_v.clus == 3]\n",
    "    clus4 = X_test_v[X_test_v.clus == 4]\n",
    "\n",
    "    clus = [clus0, clus1, clus2, clus3, clus4]\n",
    "\n",
    "    v, df = descriptionCluster(clus, 'Genero', X_test_v)\n",
    "    value = v\n",
    "\n",
    "    v, df = descriptionCluster(clus, 'Edad', X_test_v)\n",
    "    value += v\n",
    "\n",
    "    v, df = descriptionCluster(clus, 'Programa', X_test_v)\n",
    "    value += v\n",
    "\n",
    "    return (value/3)"
   ]
  },
  {
   "cell_type": "code",
   "execution_count": 396,
   "id": "c07b6a8d",
   "metadata": {},
   "outputs": [
    {
     "name": "stdout",
     "output_type": "stream",
     "text": [
      "Silhoutte:  5.853619028039222\n",
      "Acc:  41.831808832433765\n",
      "Rendimiento:  23.842713930236478\n"
     ]
    }
   ],
   "source": [
    "n_clusters = 5\n",
    "n_epochs   = 200\n",
    "batch_size = 128\n",
    "result = 0\n",
    "\n",
    "best_result = 0\n",
    "sil_avg = 0\n",
    "score_avg = 0\n",
    "\n",
    "best = None\n",
    "p_best = None\n",
    "n = 50\n",
    "for i in range(0,n):\n",
    "    model = autoencoder()\n",
    "    pretrain_optimizer = tf.keras.optimizers.Adam(learning_rate=1e-3)\n",
    "\n",
    "    pretrain_epochs = n_epochs\n",
    "    batch_size = batch_size\n",
    "\n",
    "    model.compile(optimizer=pretrain_optimizer, loss='categorical_crossentropy')\n",
    "\n",
    "    encoder, _ = train_encoder(model)\n",
    "\n",
    "    clustering_layer = ClusteringLayer(n_clusters, name='clustering')(encoder.output)\n",
    "    model = Model(inputs=encoder.input, outputs=clustering_layer)\n",
    "\n",
    "\n",
    "\n",
    "    model.compile(optimizer=pretrain_optimizer,#tf.keras.optimizers.SGD(0.01, 0.9),\n",
    "            loss='kld')\n",
    "\n",
    "    kmeans = KMeans(n_clusters, random_state=0)\n",
    "    y_pred = kmeans.fit_predict(encoder.predict(X_train))\n",
    "    y_pred_last = np.copy(y_pred)\n",
    "\n",
    "    model.get_layer(name='clustering').set_weights([kmeans.cluster_centers_])\n",
    "\n",
    "\n",
    "\n",
    "    def target_distribution(q):\n",
    "        weight = q ** 2 / q.sum(0)\n",
    "        return (weight.T / weight.sum(1)).T\n",
    "            \n",
    "    loss = 0\n",
    "    index = 0\n",
    "    maxiter = 1000 #X.shape[0] \n",
    "    update_interval = 100\n",
    "    tol = 0.001 # tolerance threshold to stop training\n",
    "    index_array = np.arange(X_train.shape[0])\n",
    "\n",
    "    for ite in range(int(maxiter)):\n",
    "        if ite % update_interval == 0:\n",
    "            q = model.predict(X_train, verbose=0)\n",
    "            p = target_distribution(q)\n",
    "\n",
    "        idx = index_array[index * batch_size: min((index+1) * batch_size, X_train.shape[0])]\n",
    "        loss = model.train_on_batch(x=X_train.iloc[idx,:], y=p[idx])\n",
    "        index = index + 1 if (index + 1) * batch_size <= X_train.shape[0] else 0\n",
    "\n",
    "    q = model.predict(X_train, verbose=0)\n",
    "    p = target_distribution(q)\n",
    "\n",
    "    y_pred = q.argmax(1)\n",
    "\n",
    "    q_test = model.predict(X_test, verbose=0)\n",
    "    p_test = target_distribution(q_test)\n",
    "\n",
    "    y_pred_test = q_test.argmax(1)\n",
    "\n",
    "        \n",
    "    score = silhouette_score(X_test, y_pred_test, metric='euclidean')*100\n",
    "\n",
    "    ac = score_ac(y_pred_test)\n",
    "    rendimiento = score/2 + ac/2\n",
    "\n",
    "    if best_result < rendimiento:\n",
    "        best = y_pred_test\n",
    "        p_best = p_test\n",
    "        best_result = rendimiento\n",
    "\n",
    "    result += rendimiento\n",
    "    sil_avg += score\n",
    "    score_avg += ac\n",
    "\n",
    "    print(str(i+1)+\"/\"+str(n), end = \"\\r\")\n",
    "\n",
    "print(\"Silhoutte: \", (sil_avg/n))\n",
    "print(\"Acc: \", (score_avg/n))\n",
    "print(\"Rendimiento: \",(result/n))"
   ]
  },
  {
   "cell_type": "code",
   "execution_count": 397,
   "id": "00e39778",
   "metadata": {},
   "outputs": [],
   "source": [
    "y_pred_test = best\n",
    "p_test = p_best"
   ]
  },
  {
   "cell_type": "code",
   "execution_count": 398,
   "id": "f51159ae",
   "metadata": {},
   "outputs": [
    {
     "data": {
      "text/plain": [
       "0.07433333325133437"
      ]
     },
     "execution_count": 398,
     "metadata": {},
     "output_type": "execute_result"
    }
   ],
   "source": [
    "score = silhouette_score(X_train, y_pred, metric='euclidean')\n",
    "score"
   ]
  },
  {
   "cell_type": "code",
   "execution_count": 399,
   "id": "079bc1cf",
   "metadata": {},
   "outputs": [
    {
     "data": {
      "text/plain": [
       "0.12404434726477863"
      ]
     },
     "execution_count": 399,
     "metadata": {},
     "output_type": "execute_result"
    }
   ],
   "source": [
    "score = silhouette_score(X_test, y_pred_test, metric='euclidean')\n",
    "score"
   ]
  },
  {
   "cell_type": "code",
   "execution_count": 400,
   "id": "3343e006",
   "metadata": {},
   "outputs": [
    {
     "data": {
      "text/plain": [
       "\"pred_df = pd.DataFrame(p_test, columns = ['x','y','z'])\\npred_df['label'] = y_pred_test\""
      ]
     },
     "execution_count": 400,
     "metadata": {},
     "output_type": "execute_result"
    }
   ],
   "source": [
    "\"\"\"pred_df = pd.DataFrame(p_test, columns = ['x','y','z'])\n",
    "pred_df['label'] = y_pred_test\"\"\""
   ]
  },
  {
   "cell_type": "code",
   "execution_count": 401,
   "id": "2422eacf",
   "metadata": {},
   "outputs": [
    {
     "data": {
      "text/plain": [
       "\"%matplotlib widget\\nfig = px.scatter_3d(pred_df, x = 'x', y = 'y', z = 'z', color = 'label', width=800, height=800)\\n#fig = px.scatter(pred_df, x = 'x',y='y', color = 'label')\\nfig.update_layout(font=dict(size= 14))\\nfig.update_traces(marker=dict(size=4,\\n                              line=dict(width=0.5,\\n                                        color='DarkSlateGrey')),\\n                  selector=dict(mode='markers'))\\n\\nfig.show()\""
      ]
     },
     "execution_count": 401,
     "metadata": {},
     "output_type": "execute_result"
    }
   ],
   "source": [
    "\"\"\"%matplotlib widget\n",
    "fig = px.scatter_3d(pred_df, x = 'x', y = 'y', z = 'z', color = 'label', width=800, height=800)\n",
    "#fig = px.scatter(pred_df, x = 'x',y='y', color = 'label')\n",
    "fig.update_layout(font=dict(size= 14))\n",
    "fig.update_traces(marker=dict(size=4,\n",
    "                              line=dict(width=0.5,\n",
    "                                        color='DarkSlateGrey')),\n",
    "                  selector=dict(mode='markers'))\n",
    "\n",
    "fig.show()\"\"\""
   ]
  },
  {
   "cell_type": "code",
   "execution_count": 402,
   "id": "d22b5f9b",
   "metadata": {},
   "outputs": [],
   "source": [
    "X_test_v= X_test.merge(data.loc[:,['Genero','Edad','Programa']], left_index=True, right_index=True)"
   ]
  },
  {
   "cell_type": "code",
   "execution_count": 403,
   "id": "78846925",
   "metadata": {},
   "outputs": [],
   "source": [
    "pd.set_option('display.float_format', lambda x: '%.3f' % x)"
   ]
  },
  {
   "cell_type": "code",
   "execution_count": 413,
   "id": "b3dcae0e",
   "metadata": {},
   "outputs": [],
   "source": [
    "X_test_v['clus'] = y_pred_test\n",
    "clus0 = X_test_v[X_test_v.clus == 0]\n",
    "clus1 = X_test_v[X_test_v.clus == 1]\n",
    "clus2 = X_test_v[X_test_v.clus == 2]\n",
    "clus3 = X_test_v[X_test_v.clus == 3]\n",
    "clus4 = X_test_v[X_test_v.clus == 4]\n",
    "\n",
    "\n",
    "clus = [clus0, clus1, clus2, clus3, clus4]"
   ]
  },
  {
   "cell_type": "code",
   "execution_count": 414,
   "id": "f1ab9eb0",
   "metadata": {},
   "outputs": [
    {
     "data": {
      "text/html": [
       "<div>\n",
       "<style scoped>\n",
       "    .dataframe tbody tr th:only-of-type {\n",
       "        vertical-align: middle;\n",
       "    }\n",
       "\n",
       "    .dataframe tbody tr th {\n",
       "        vertical-align: top;\n",
       "    }\n",
       "\n",
       "    .dataframe thead th {\n",
       "        text-align: right;\n",
       "    }\n",
       "</style>\n",
       "<table border=\"1\" class=\"dataframe\">\n",
       "  <thead>\n",
       "    <tr style=\"text-align: right;\">\n",
       "      <th></th>\n",
       "      <th>C0</th>\n",
       "      <th>C1</th>\n",
       "      <th>C2</th>\n",
       "      <th>C3</th>\n",
       "      <th>C4</th>\n",
       "    </tr>\n",
       "  </thead>\n",
       "  <tbody>\n",
       "    <tr>\n",
       "      <th>0</th>\n",
       "      <td>51.811</td>\n",
       "      <td>36.364</td>\n",
       "      <td>14.286</td>\n",
       "      <td>24.324</td>\n",
       "      <td>42.308</td>\n",
       "    </tr>\n",
       "    <tr>\n",
       "      <th>1</th>\n",
       "      <td>48.189</td>\n",
       "      <td>63.636</td>\n",
       "      <td>85.714</td>\n",
       "      <td>75.676</td>\n",
       "      <td>57.692</td>\n",
       "    </tr>\n",
       "  </tbody>\n",
       "</table>\n",
       "</div>"
      ],
      "text/plain": [
       "      C0     C1     C2     C3     C4\n",
       "0 51.811 36.364 14.286 24.324 42.308\n",
       "1 48.189 63.636 85.714 75.676 57.692"
      ]
     },
     "execution_count": 414,
     "metadata": {},
     "output_type": "execute_result"
    }
   ],
   "source": [
    "v, df = descriptionCluster(clus, 'Genero', X_test_v)\n",
    "value = v\n",
    "df"
   ]
  },
  {
   "cell_type": "code",
   "execution_count": 415,
   "id": "3e11172c",
   "metadata": {},
   "outputs": [
    {
     "data": {
      "text/html": [
       "<div>\n",
       "<style scoped>\n",
       "    .dataframe tbody tr th:only-of-type {\n",
       "        vertical-align: middle;\n",
       "    }\n",
       "\n",
       "    .dataframe tbody tr th {\n",
       "        vertical-align: top;\n",
       "    }\n",
       "\n",
       "    .dataframe thead th {\n",
       "        text-align: right;\n",
       "    }\n",
       "</style>\n",
       "<table border=\"1\" class=\"dataframe\">\n",
       "  <thead>\n",
       "    <tr style=\"text-align: right;\">\n",
       "      <th></th>\n",
       "      <th>C0</th>\n",
       "      <th>C1</th>\n",
       "      <th>C2</th>\n",
       "      <th>C3</th>\n",
       "      <th>C4</th>\n",
       "    </tr>\n",
       "  </thead>\n",
       "  <tbody>\n",
       "    <tr>\n",
       "      <th>0</th>\n",
       "      <td>25.627</td>\n",
       "      <td>45.455</td>\n",
       "      <td>28.571</td>\n",
       "      <td>40.541</td>\n",
       "      <td>19.231</td>\n",
       "    </tr>\n",
       "    <tr>\n",
       "      <th>1</th>\n",
       "      <td>20.613</td>\n",
       "      <td>9.091</td>\n",
       "      <td>14.286</td>\n",
       "      <td>16.216</td>\n",
       "      <td>30.769</td>\n",
       "    </tr>\n",
       "    <tr>\n",
       "      <th>2</th>\n",
       "      <td>29.248</td>\n",
       "      <td>18.182</td>\n",
       "      <td>28.571</td>\n",
       "      <td>24.324</td>\n",
       "      <td>42.308</td>\n",
       "    </tr>\n",
       "    <tr>\n",
       "      <th>3</th>\n",
       "      <td>24.513</td>\n",
       "      <td>27.273</td>\n",
       "      <td>28.571</td>\n",
       "      <td>18.919</td>\n",
       "      <td>7.692</td>\n",
       "    </tr>\n",
       "  </tbody>\n",
       "</table>\n",
       "</div>"
      ],
      "text/plain": [
       "      C0     C1     C2     C3     C4\n",
       "0 25.627 45.455 28.571 40.541 19.231\n",
       "1 20.613  9.091 14.286 16.216 30.769\n",
       "2 29.248 18.182 28.571 24.324 42.308\n",
       "3 24.513 27.273 28.571 18.919  7.692"
      ]
     },
     "execution_count": 415,
     "metadata": {},
     "output_type": "execute_result"
    }
   ],
   "source": [
    "v, df = descriptionCluster(clus, 'Edad', X_test_v)\n",
    "value += v\n",
    "df"
   ]
  },
  {
   "cell_type": "code",
   "execution_count": 416,
   "id": "cf534e2d",
   "metadata": {},
   "outputs": [
    {
     "data": {
      "text/html": [
       "<div>\n",
       "<style scoped>\n",
       "    .dataframe tbody tr th:only-of-type {\n",
       "        vertical-align: middle;\n",
       "    }\n",
       "\n",
       "    .dataframe tbody tr th {\n",
       "        vertical-align: top;\n",
       "    }\n",
       "\n",
       "    .dataframe thead th {\n",
       "        text-align: right;\n",
       "    }\n",
       "</style>\n",
       "<table border=\"1\" class=\"dataframe\">\n",
       "  <thead>\n",
       "    <tr style=\"text-align: right;\">\n",
       "      <th></th>\n",
       "      <th>C0</th>\n",
       "      <th>C1</th>\n",
       "      <th>C2</th>\n",
       "      <th>C3</th>\n",
       "      <th>C4</th>\n",
       "    </tr>\n",
       "  </thead>\n",
       "  <tbody>\n",
       "    <tr>\n",
       "      <th>0</th>\n",
       "      <td>26.741</td>\n",
       "      <td>9.091</td>\n",
       "      <td>14.286</td>\n",
       "      <td>37.838</td>\n",
       "      <td>38.462</td>\n",
       "    </tr>\n",
       "    <tr>\n",
       "      <th>1</th>\n",
       "      <td>23.955</td>\n",
       "      <td>27.273</td>\n",
       "      <td>42.857</td>\n",
       "      <td>18.919</td>\n",
       "      <td>11.538</td>\n",
       "    </tr>\n",
       "    <tr>\n",
       "      <th>2</th>\n",
       "      <td>23.677</td>\n",
       "      <td>36.364</td>\n",
       "      <td>14.286</td>\n",
       "      <td>37.838</td>\n",
       "      <td>26.923</td>\n",
       "    </tr>\n",
       "    <tr>\n",
       "      <th>3</th>\n",
       "      <td>14.206</td>\n",
       "      <td>9.091</td>\n",
       "      <td>14.286</td>\n",
       "      <td>2.703</td>\n",
       "      <td>19.231</td>\n",
       "    </tr>\n",
       "    <tr>\n",
       "      <th>4</th>\n",
       "      <td>10.306</td>\n",
       "      <td>18.182</td>\n",
       "      <td>14.286</td>\n",
       "      <td>2.703</td>\n",
       "      <td>3.846</td>\n",
       "    </tr>\n",
       "    <tr>\n",
       "      <th>5</th>\n",
       "      <td>1.114</td>\n",
       "      <td>0.000</td>\n",
       "      <td>0.000</td>\n",
       "      <td>0.000</td>\n",
       "      <td>0.000</td>\n",
       "    </tr>\n",
       "  </tbody>\n",
       "</table>\n",
       "</div>"
      ],
      "text/plain": [
       "      C0     C1     C2     C3     C4\n",
       "0 26.741  9.091 14.286 37.838 38.462\n",
       "1 23.955 27.273 42.857 18.919 11.538\n",
       "2 23.677 36.364 14.286 37.838 26.923\n",
       "3 14.206  9.091 14.286  2.703 19.231\n",
       "4 10.306 18.182 14.286  2.703  3.846\n",
       "5  1.114  0.000  0.000  0.000  0.000"
      ]
     },
     "execution_count": 416,
     "metadata": {},
     "output_type": "execute_result"
    }
   ],
   "source": [
    "v, df = descriptionCluster(clus, 'Programa', X_test_v)\n",
    "value += v\n",
    "df"
   ]
  },
  {
   "cell_type": "code",
   "execution_count": 417,
   "id": "3c0b304d",
   "metadata": {},
   "outputs": [
    {
     "data": {
      "text/plain": [
       "46.86082920066207"
      ]
     },
     "execution_count": 417,
     "metadata": {},
     "output_type": "execute_result"
    }
   ],
   "source": [
    "value/3"
   ]
  },
  {
   "cell_type": "code",
   "execution_count": 419,
   "id": "9a2678bc",
   "metadata": {},
   "outputs": [],
   "source": [
    "def clus_description(clus):\n",
    "    df = pd.DataFrame(columns=['C0','C1','C2','C3', 'C4'])\n",
    "    i = 0\n",
    "    for c in clus:\n",
    "        clus_per = c.loc[:,preguntas].apply(pd.value_counts).sum(axis=1)\n",
    "        s = clus_per*100/clus_per.sum()\n",
    "\n",
    "        df['C'+str(i)] = s\n",
    "        i +=1\n",
    "    return df"
   ]
  },
  {
   "cell_type": "code",
   "execution_count": 420,
   "id": "540a1fa0",
   "metadata": {},
   "outputs": [
    {
     "data": {
      "text/html": [
       "<div>\n",
       "<style scoped>\n",
       "    .dataframe tbody tr th:only-of-type {\n",
       "        vertical-align: middle;\n",
       "    }\n",
       "\n",
       "    .dataframe tbody tr th {\n",
       "        vertical-align: top;\n",
       "    }\n",
       "\n",
       "    .dataframe thead th {\n",
       "        text-align: right;\n",
       "    }\n",
       "</style>\n",
       "<table border=\"1\" class=\"dataframe\">\n",
       "  <thead>\n",
       "    <tr style=\"text-align: right;\">\n",
       "      <th></th>\n",
       "      <th>C0</th>\n",
       "      <th>C1</th>\n",
       "      <th>C2</th>\n",
       "      <th>C3</th>\n",
       "      <th>C4</th>\n",
       "    </tr>\n",
       "  </thead>\n",
       "  <tbody>\n",
       "    <tr>\n",
       "      <th>-0.900</th>\n",
       "      <td>57.583</td>\n",
       "      <td>14.313</td>\n",
       "      <td>16.109</td>\n",
       "      <td>14.261</td>\n",
       "      <td>6.547</td>\n",
       "    </tr>\n",
       "    <tr>\n",
       "      <th>-0.400</th>\n",
       "      <td>16.280</td>\n",
       "      <td>17.602</td>\n",
       "      <td>13.374</td>\n",
       "      <td>13.168</td>\n",
       "      <td>5.074</td>\n",
       "    </tr>\n",
       "    <tr>\n",
       "      <th>-0.100</th>\n",
       "      <td>11.889</td>\n",
       "      <td>33.269</td>\n",
       "      <td>13.678</td>\n",
       "      <td>53.306</td>\n",
       "      <td>8.101</td>\n",
       "    </tr>\n",
       "    <tr>\n",
       "      <th>0.400</th>\n",
       "      <td>8.031</td>\n",
       "      <td>22.244</td>\n",
       "      <td>35.562</td>\n",
       "      <td>13.111</td>\n",
       "      <td>28.396</td>\n",
       "    </tr>\n",
       "    <tr>\n",
       "      <th>0.900</th>\n",
       "      <td>6.217</td>\n",
       "      <td>12.573</td>\n",
       "      <td>21.277</td>\n",
       "      <td>6.153</td>\n",
       "      <td>51.882</td>\n",
       "    </tr>\n",
       "  </tbody>\n",
       "</table>\n",
       "</div>"
      ],
      "text/plain": [
       "           C0     C1     C2     C3     C4\n",
       "-0.900 57.583 14.313 16.109 14.261  6.547\n",
       "-0.400 16.280 17.602 13.374 13.168  5.074\n",
       "-0.100 11.889 33.269 13.678 53.306  8.101\n",
       "0.400   8.031 22.244 35.562 13.111 28.396\n",
       "0.900   6.217 12.573 21.277  6.153 51.882"
      ]
     },
     "execution_count": 420,
     "metadata": {},
     "output_type": "execute_result"
    }
   ],
   "source": [
    "df_clus = clus_description(clus)\n",
    "df_clus"
   ]
  },
  {
   "cell_type": "code",
   "execution_count": 422,
   "id": "c092767f",
   "metadata": {},
   "outputs": [
    {
     "data": {
      "application/vnd.plotly.v1+json": {
       "config": {
        "plotlyServerURL": "https://plot.ly"
       },
       "data": [
        {
         "hovertemplate": "variable=C0<br>index=%{x}<br>value=%{y}<extra></extra>",
         "legendgroup": "C0",
         "line": {
          "color": "blue",
          "dash": "solid",
          "width": 5
         },
         "marker": {
          "symbol": "circle"
         },
         "mode": "lines",
         "name": "C0",
         "orientation": "v",
         "showlegend": true,
         "type": "scatter",
         "x": [
          -0.9,
          -0.4,
          -0.1,
          0.4,
          0.9
         ],
         "xaxis": "x",
         "y": [
          57.58312096248444,
          16.28044805310259,
          11.888816452320276,
          8.030581402240266,
          6.217033129852427
         ],
         "yaxis": "y"
        },
        {
         "hovertemplate": "variable=C1<br>index=%{x}<br>value=%{y}<extra></extra>",
         "legendgroup": "C1",
         "line": {
          "color": "purple",
          "dash": "solid",
          "width": 5
         },
         "marker": {
          "symbol": "circle"
         },
         "mode": "lines",
         "name": "C1",
         "orientation": "v",
         "showlegend": true,
         "type": "scatter",
         "x": [
          -0.9,
          -0.4,
          -0.1,
          0.4,
          0.9
         ],
         "xaxis": "x",
         "y": [
          14.313346228239846,
          17.60154738878143,
          33.26885880077369,
          22.243713733075435,
          12.572533849129593
         ],
         "yaxis": "y"
        },
        {
         "hovertemplate": "variable=C2<br>index=%{x}<br>value=%{y}<extra></extra>",
         "legendgroup": "C2",
         "line": {
          "color": "orange",
          "dash": "solid",
          "width": 5
         },
         "marker": {
          "symbol": "circle"
         },
         "mode": "lines",
         "name": "C2",
         "orientation": "v",
         "showlegend": true,
         "type": "scatter",
         "x": [
          -0.9,
          -0.4,
          -0.1,
          0.4,
          0.9
         ],
         "xaxis": "x",
         "y": [
          16.109422492401215,
          13.373860182370821,
          13.677811550151976,
          35.56231003039514,
          21.27659574468085
         ],
         "yaxis": "y"
        },
        {
         "hovertemplate": "variable=C3<br>index=%{x}<br>value=%{y}<extra></extra>",
         "legendgroup": "C3",
         "line": {
          "color": "red",
          "dash": "solid",
          "width": 5
         },
         "marker": {
          "symbol": "circle"
         },
         "mode": "lines",
         "name": "C3",
         "orientation": "v",
         "showlegend": true,
         "type": "scatter",
         "x": [
          -0.9,
          -0.4,
          -0.1,
          0.4,
          0.9
         ],
         "xaxis": "x",
         "y": [
          14.261069580218516,
          13.168487636572744,
          53.306497987349054,
          13.11098332374928,
          6.152961472110408
         ],
         "yaxis": "y"
        },
        {
         "hovertemplate": "variable=C4<br>index=%{x}<br>value=%{y}<extra></extra>",
         "legendgroup": "C4",
         "line": {
          "color": "green",
          "dash": "solid",
          "width": 5
         },
         "marker": {
          "symbol": "circle"
         },
         "mode": "lines",
         "name": "C4",
         "orientation": "v",
         "showlegend": true,
         "type": "scatter",
         "x": [
          -0.9,
          -0.4,
          -0.1,
          0.4,
          0.9
         ],
         "xaxis": "x",
         "y": [
          6.546644844517185,
          5.073649754500818,
          8.101472995090017,
          28.39607201309329,
          51.88216039279869
         ],
         "yaxis": "y"
        }
       ],
       "layout": {
        "font": {
         "size": 20
        },
        "height": 800,
        "legend": {
         "title": {
          "text": "variable"
         },
         "tracegroupgap": 0
        },
        "margin": {
         "t": 60
        },
        "template": {
         "data": {
          "bar": [
           {
            "error_x": {
             "color": "#2a3f5f"
            },
            "error_y": {
             "color": "#2a3f5f"
            },
            "marker": {
             "line": {
              "color": "#E5ECF6",
              "width": 0.5
             },
             "pattern": {
              "fillmode": "overlay",
              "size": 10,
              "solidity": 0.2
             }
            },
            "type": "bar"
           }
          ],
          "barpolar": [
           {
            "marker": {
             "line": {
              "color": "#E5ECF6",
              "width": 0.5
             },
             "pattern": {
              "fillmode": "overlay",
              "size": 10,
              "solidity": 0.2
             }
            },
            "type": "barpolar"
           }
          ],
          "carpet": [
           {
            "aaxis": {
             "endlinecolor": "#2a3f5f",
             "gridcolor": "white",
             "linecolor": "white",
             "minorgridcolor": "white",
             "startlinecolor": "#2a3f5f"
            },
            "baxis": {
             "endlinecolor": "#2a3f5f",
             "gridcolor": "white",
             "linecolor": "white",
             "minorgridcolor": "white",
             "startlinecolor": "#2a3f5f"
            },
            "type": "carpet"
           }
          ],
          "choropleth": [
           {
            "colorbar": {
             "outlinewidth": 0,
             "ticks": ""
            },
            "type": "choropleth"
           }
          ],
          "contour": [
           {
            "colorbar": {
             "outlinewidth": 0,
             "ticks": ""
            },
            "colorscale": [
             [
              0,
              "#0d0887"
             ],
             [
              0.1111111111111111,
              "#46039f"
             ],
             [
              0.2222222222222222,
              "#7201a8"
             ],
             [
              0.3333333333333333,
              "#9c179e"
             ],
             [
              0.4444444444444444,
              "#bd3786"
             ],
             [
              0.5555555555555556,
              "#d8576b"
             ],
             [
              0.6666666666666666,
              "#ed7953"
             ],
             [
              0.7777777777777778,
              "#fb9f3a"
             ],
             [
              0.8888888888888888,
              "#fdca26"
             ],
             [
              1,
              "#f0f921"
             ]
            ],
            "type": "contour"
           }
          ],
          "contourcarpet": [
           {
            "colorbar": {
             "outlinewidth": 0,
             "ticks": ""
            },
            "type": "contourcarpet"
           }
          ],
          "heatmap": [
           {
            "colorbar": {
             "outlinewidth": 0,
             "ticks": ""
            },
            "colorscale": [
             [
              0,
              "#0d0887"
             ],
             [
              0.1111111111111111,
              "#46039f"
             ],
             [
              0.2222222222222222,
              "#7201a8"
             ],
             [
              0.3333333333333333,
              "#9c179e"
             ],
             [
              0.4444444444444444,
              "#bd3786"
             ],
             [
              0.5555555555555556,
              "#d8576b"
             ],
             [
              0.6666666666666666,
              "#ed7953"
             ],
             [
              0.7777777777777778,
              "#fb9f3a"
             ],
             [
              0.8888888888888888,
              "#fdca26"
             ],
             [
              1,
              "#f0f921"
             ]
            ],
            "type": "heatmap"
           }
          ],
          "heatmapgl": [
           {
            "colorbar": {
             "outlinewidth": 0,
             "ticks": ""
            },
            "colorscale": [
             [
              0,
              "#0d0887"
             ],
             [
              0.1111111111111111,
              "#46039f"
             ],
             [
              0.2222222222222222,
              "#7201a8"
             ],
             [
              0.3333333333333333,
              "#9c179e"
             ],
             [
              0.4444444444444444,
              "#bd3786"
             ],
             [
              0.5555555555555556,
              "#d8576b"
             ],
             [
              0.6666666666666666,
              "#ed7953"
             ],
             [
              0.7777777777777778,
              "#fb9f3a"
             ],
             [
              0.8888888888888888,
              "#fdca26"
             ],
             [
              1,
              "#f0f921"
             ]
            ],
            "type": "heatmapgl"
           }
          ],
          "histogram": [
           {
            "marker": {
             "pattern": {
              "fillmode": "overlay",
              "size": 10,
              "solidity": 0.2
             }
            },
            "type": "histogram"
           }
          ],
          "histogram2d": [
           {
            "colorbar": {
             "outlinewidth": 0,
             "ticks": ""
            },
            "colorscale": [
             [
              0,
              "#0d0887"
             ],
             [
              0.1111111111111111,
              "#46039f"
             ],
             [
              0.2222222222222222,
              "#7201a8"
             ],
             [
              0.3333333333333333,
              "#9c179e"
             ],
             [
              0.4444444444444444,
              "#bd3786"
             ],
             [
              0.5555555555555556,
              "#d8576b"
             ],
             [
              0.6666666666666666,
              "#ed7953"
             ],
             [
              0.7777777777777778,
              "#fb9f3a"
             ],
             [
              0.8888888888888888,
              "#fdca26"
             ],
             [
              1,
              "#f0f921"
             ]
            ],
            "type": "histogram2d"
           }
          ],
          "histogram2dcontour": [
           {
            "colorbar": {
             "outlinewidth": 0,
             "ticks": ""
            },
            "colorscale": [
             [
              0,
              "#0d0887"
             ],
             [
              0.1111111111111111,
              "#46039f"
             ],
             [
              0.2222222222222222,
              "#7201a8"
             ],
             [
              0.3333333333333333,
              "#9c179e"
             ],
             [
              0.4444444444444444,
              "#bd3786"
             ],
             [
              0.5555555555555556,
              "#d8576b"
             ],
             [
              0.6666666666666666,
              "#ed7953"
             ],
             [
              0.7777777777777778,
              "#fb9f3a"
             ],
             [
              0.8888888888888888,
              "#fdca26"
             ],
             [
              1,
              "#f0f921"
             ]
            ],
            "type": "histogram2dcontour"
           }
          ],
          "mesh3d": [
           {
            "colorbar": {
             "outlinewidth": 0,
             "ticks": ""
            },
            "type": "mesh3d"
           }
          ],
          "parcoords": [
           {
            "line": {
             "colorbar": {
              "outlinewidth": 0,
              "ticks": ""
             }
            },
            "type": "parcoords"
           }
          ],
          "pie": [
           {
            "automargin": true,
            "type": "pie"
           }
          ],
          "scatter": [
           {
            "fillpattern": {
             "fillmode": "overlay",
             "size": 10,
             "solidity": 0.2
            },
            "type": "scatter"
           }
          ],
          "scatter3d": [
           {
            "line": {
             "colorbar": {
              "outlinewidth": 0,
              "ticks": ""
             }
            },
            "marker": {
             "colorbar": {
              "outlinewidth": 0,
              "ticks": ""
             }
            },
            "type": "scatter3d"
           }
          ],
          "scattercarpet": [
           {
            "marker": {
             "colorbar": {
              "outlinewidth": 0,
              "ticks": ""
             }
            },
            "type": "scattercarpet"
           }
          ],
          "scattergeo": [
           {
            "marker": {
             "colorbar": {
              "outlinewidth": 0,
              "ticks": ""
             }
            },
            "type": "scattergeo"
           }
          ],
          "scattergl": [
           {
            "marker": {
             "colorbar": {
              "outlinewidth": 0,
              "ticks": ""
             }
            },
            "type": "scattergl"
           }
          ],
          "scattermapbox": [
           {
            "marker": {
             "colorbar": {
              "outlinewidth": 0,
              "ticks": ""
             }
            },
            "type": "scattermapbox"
           }
          ],
          "scatterpolar": [
           {
            "marker": {
             "colorbar": {
              "outlinewidth": 0,
              "ticks": ""
             }
            },
            "type": "scatterpolar"
           }
          ],
          "scatterpolargl": [
           {
            "marker": {
             "colorbar": {
              "outlinewidth": 0,
              "ticks": ""
             }
            },
            "type": "scatterpolargl"
           }
          ],
          "scatterternary": [
           {
            "marker": {
             "colorbar": {
              "outlinewidth": 0,
              "ticks": ""
             }
            },
            "type": "scatterternary"
           }
          ],
          "surface": [
           {
            "colorbar": {
             "outlinewidth": 0,
             "ticks": ""
            },
            "colorscale": [
             [
              0,
              "#0d0887"
             ],
             [
              0.1111111111111111,
              "#46039f"
             ],
             [
              0.2222222222222222,
              "#7201a8"
             ],
             [
              0.3333333333333333,
              "#9c179e"
             ],
             [
              0.4444444444444444,
              "#bd3786"
             ],
             [
              0.5555555555555556,
              "#d8576b"
             ],
             [
              0.6666666666666666,
              "#ed7953"
             ],
             [
              0.7777777777777778,
              "#fb9f3a"
             ],
             [
              0.8888888888888888,
              "#fdca26"
             ],
             [
              1,
              "#f0f921"
             ]
            ],
            "type": "surface"
           }
          ],
          "table": [
           {
            "cells": {
             "fill": {
              "color": "#EBF0F8"
             },
             "line": {
              "color": "white"
             }
            },
            "header": {
             "fill": {
              "color": "#C8D4E3"
             },
             "line": {
              "color": "white"
             }
            },
            "type": "table"
           }
          ]
         },
         "layout": {
          "annotationdefaults": {
           "arrowcolor": "#2a3f5f",
           "arrowhead": 0,
           "arrowwidth": 1
          },
          "autotypenumbers": "strict",
          "coloraxis": {
           "colorbar": {
            "outlinewidth": 0,
            "ticks": ""
           }
          },
          "colorscale": {
           "diverging": [
            [
             0,
             "#8e0152"
            ],
            [
             0.1,
             "#c51b7d"
            ],
            [
             0.2,
             "#de77ae"
            ],
            [
             0.3,
             "#f1b6da"
            ],
            [
             0.4,
             "#fde0ef"
            ],
            [
             0.5,
             "#f7f7f7"
            ],
            [
             0.6,
             "#e6f5d0"
            ],
            [
             0.7,
             "#b8e186"
            ],
            [
             0.8,
             "#7fbc41"
            ],
            [
             0.9,
             "#4d9221"
            ],
            [
             1,
             "#276419"
            ]
           ],
           "sequential": [
            [
             0,
             "#0d0887"
            ],
            [
             0.1111111111111111,
             "#46039f"
            ],
            [
             0.2222222222222222,
             "#7201a8"
            ],
            [
             0.3333333333333333,
             "#9c179e"
            ],
            [
             0.4444444444444444,
             "#bd3786"
            ],
            [
             0.5555555555555556,
             "#d8576b"
            ],
            [
             0.6666666666666666,
             "#ed7953"
            ],
            [
             0.7777777777777778,
             "#fb9f3a"
            ],
            [
             0.8888888888888888,
             "#fdca26"
            ],
            [
             1,
             "#f0f921"
            ]
           ],
           "sequentialminus": [
            [
             0,
             "#0d0887"
            ],
            [
             0.1111111111111111,
             "#46039f"
            ],
            [
             0.2222222222222222,
             "#7201a8"
            ],
            [
             0.3333333333333333,
             "#9c179e"
            ],
            [
             0.4444444444444444,
             "#bd3786"
            ],
            [
             0.5555555555555556,
             "#d8576b"
            ],
            [
             0.6666666666666666,
             "#ed7953"
            ],
            [
             0.7777777777777778,
             "#fb9f3a"
            ],
            [
             0.8888888888888888,
             "#fdca26"
            ],
            [
             1,
             "#f0f921"
            ]
           ]
          },
          "colorway": [
           "#636efa",
           "#EF553B",
           "#00cc96",
           "#ab63fa",
           "#FFA15A",
           "#19d3f3",
           "#FF6692",
           "#B6E880",
           "#FF97FF",
           "#FECB52"
          ],
          "font": {
           "color": "#2a3f5f"
          },
          "geo": {
           "bgcolor": "white",
           "lakecolor": "white",
           "landcolor": "#E5ECF6",
           "showlakes": true,
           "showland": true,
           "subunitcolor": "white"
          },
          "hoverlabel": {
           "align": "left"
          },
          "hovermode": "closest",
          "mapbox": {
           "style": "light"
          },
          "paper_bgcolor": "white",
          "plot_bgcolor": "#E5ECF6",
          "polar": {
           "angularaxis": {
            "gridcolor": "white",
            "linecolor": "white",
            "ticks": ""
           },
           "bgcolor": "#E5ECF6",
           "radialaxis": {
            "gridcolor": "white",
            "linecolor": "white",
            "ticks": ""
           }
          },
          "scene": {
           "xaxis": {
            "backgroundcolor": "#E5ECF6",
            "gridcolor": "white",
            "gridwidth": 2,
            "linecolor": "white",
            "showbackground": true,
            "ticks": "",
            "zerolinecolor": "white"
           },
           "yaxis": {
            "backgroundcolor": "#E5ECF6",
            "gridcolor": "white",
            "gridwidth": 2,
            "linecolor": "white",
            "showbackground": true,
            "ticks": "",
            "zerolinecolor": "white"
           },
           "zaxis": {
            "backgroundcolor": "#E5ECF6",
            "gridcolor": "white",
            "gridwidth": 2,
            "linecolor": "white",
            "showbackground": true,
            "ticks": "",
            "zerolinecolor": "white"
           }
          },
          "shapedefaults": {
           "line": {
            "color": "#2a3f5f"
           }
          },
          "ternary": {
           "aaxis": {
            "gridcolor": "white",
            "linecolor": "white",
            "ticks": ""
           },
           "baxis": {
            "gridcolor": "white",
            "linecolor": "white",
            "ticks": ""
           },
           "bgcolor": "#E5ECF6",
           "caxis": {
            "gridcolor": "white",
            "linecolor": "white",
            "ticks": ""
           }
          },
          "title": {
           "x": 0.05
          },
          "xaxis": {
           "automargin": true,
           "gridcolor": "white",
           "linecolor": "white",
           "ticks": "",
           "title": {
            "standoff": 15
           },
           "zerolinecolor": "white",
           "zerolinewidth": 2
          },
          "yaxis": {
           "automargin": true,
           "gridcolor": "white",
           "linecolor": "white",
           "ticks": "",
           "title": {
            "standoff": 15
           },
           "zerolinecolor": "white",
           "zerolinewidth": 2
          }
         }
        },
        "width": 1000,
        "xaxis": {
         "anchor": "y",
         "domain": [
          0,
          1
         ],
         "title": {
          "text": "index"
         }
        },
        "yaxis": {
         "anchor": "x",
         "domain": [
          0,
          1
         ],
         "title": {
          "text": "value"
         }
        }
       }
      }
     },
     "metadata": {},
     "output_type": "display_data"
    }
   ],
   "source": [
    "fig = px.line(df_clus, height=800, width=1000, color_discrete_map={\n",
    "                 \"C0\": \"blue\",\n",
    "                 \"C1\": \"purple\",\n",
    "                 \"C2\": \"orange\",\n",
    "                 \"C3\": \"red\",\n",
    "                 \"C4\": \"green\"\n",
    "             })\n",
    "fig.update_layout(font=dict(size= 20))\n",
    "fig.update_traces(line_width=5)\n",
    "fig.show()"
   ]
  },
  {
   "cell_type": "code",
   "execution_count": 412,
   "id": "f8abb39e",
   "metadata": {},
   "outputs": [],
   "source": [
    "#model.save(\"best_DEC.h5\")"
   ]
  }
 ],
 "metadata": {
  "kernelspec": {
   "display_name": "Python 3.9.7 64-bit",
   "language": "python",
   "name": "python3"
  },
  "language_info": {
   "codemirror_mode": {
    "name": "ipython",
    "version": 3
   },
   "file_extension": ".py",
   "mimetype": "text/x-python",
   "name": "python",
   "nbconvert_exporter": "python",
   "pygments_lexer": "ipython3",
   "version": "3.9.7"
  },
  "papermill": {
   "default_parameters": {},
   "duration": 105.821418,
   "end_time": "2022-07-13T14:33:19.790275",
   "environment_variables": {},
   "exception": null,
   "input_path": "__notebook__.ipynb",
   "output_path": "__notebook__.ipynb",
   "parameters": {},
   "start_time": "2022-07-13T14:31:33.968857",
   "version": "2.3.4"
  },
  "vscode": {
   "interpreter": {
    "hash": "47530cf65788bef88d68f9b1162c12628485a0c62cf24e41bf271603adfde28c"
   }
  }
 },
 "nbformat": 4,
 "nbformat_minor": 5
}
